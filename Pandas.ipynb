{
  "cells": [
    {
      "cell_type": "markdown",
      "metadata": {
        "id": "view-in-github",
        "colab_type": "text"
      },
      "source": [
        "<a href=\"https://colab.research.google.com/github/Marcux777/Ci-ncia-de-Dados/blob/main/Pandas.ipynb\" target=\"_parent\"><img src=\"https://colab.research.google.com/assets/colab-badge.svg\" alt=\"Open In Colab\"/></a>"
      ]
    },
    {
      "cell_type": "markdown",
      "source": [
        "## Pandas\n",
        "\n",
        "O Pandas se destaca como uma biblioteca poderosa e versátil para manipulação e análise de dados em Python, oferecendo diversas funcionalidades que a tornam indispensável para a ciência de dados e analistas.\n",
        "\n",
        "### 1. Importando o Pandas e Criando um DataFrame:"
      ],
      "metadata": {
        "id": "4ZmBSfZO-bpj"
      }
    },
    {
      "cell_type": "code",
      "source": [
        "import pandas as pd\n",
        "import matplotlib.pyplot as plt\n",
        "\n",
        "# Criando um DataFrame a partir de um dicionário\n",
        "dados = {'nome': ['João', 'Maria', 'Pedro', 'Ana'], 'idade': [30, 25, 22, 27], 'cidade': ['São Paulo', 'Rio de Janeiro', 'Belo Horizonte', 'Salvador']}\n",
        "df = pd.DataFrame(dados)\n",
        "\n",
        "# Exibindo o DataFrame\n",
        "print(df)"
      ],
      "outputs": [
        {
          "output_type": "stream",
          "name": "stdout",
          "text": [
            "    nome  idade          cidade\n",
            "0   João     30       São Paulo\n",
            "1  Maria     25  Rio de Janeiro\n",
            "2  Pedro     22  Belo Horizonte\n",
            "3    Ana     27        Salvador\n"
          ]
        }
      ],
      "execution_count": 2,
      "metadata": {
        "colab": {
          "base_uri": "https://localhost:8080/"
        },
        "id": "zONbETlJ-bpq",
        "outputId": "3784a617-d789-4f35-f341-a1cd6bb44d12"
      }
    },
    {
      "cell_type": "markdown",
      "source": [
        "### 2. Acessando Dados em um DataFrame:\n",
        "\n",
        "* **Selecionando colunas:**"
      ],
      "metadata": {
        "id": "6-ceiLMW-bps"
      }
    },
    {
      "cell_type": "code",
      "source": [
        "# Selecionando a coluna 'nome'\n",
        "df['nome']"
      ],
      "outputs": [
        {
          "output_type": "execute_result",
          "data": {
            "text/plain": [
              "0     João\n",
              "1    Maria\n",
              "2    Pedro\n",
              "3      Ana\n",
              "Name: nome, dtype: object"
            ]
          },
          "metadata": {},
          "execution_count": 2
        }
      ],
      "execution_count": null,
      "metadata": {
        "colab": {
          "base_uri": "https://localhost:8080/"
        },
        "id": "x0MKYLYq-bpt",
        "outputId": "231dea27-00e3-4bea-c6af-3d033558c8e0"
      }
    },
    {
      "cell_type": "markdown",
      "source": [
        "* **Selecionando linhas:**"
      ],
      "metadata": {
        "id": "mJnpbjkW-bpt"
      }
    },
    {
      "cell_type": "code",
      "source": [
        "# Selecionando a primeira linha\n",
        "df.iloc[0]"
      ],
      "outputs": [
        {
          "output_type": "execute_result",
          "data": {
            "text/plain": [
              "nome           João\n",
              "idade            30\n",
              "cidade    São Paulo\n",
              "Name: 0, dtype: object"
            ]
          },
          "metadata": {},
          "execution_count": 3
        }
      ],
      "execution_count": null,
      "metadata": {
        "colab": {
          "base_uri": "https://localhost:8080/"
        },
        "id": "4c0qdZmD-bpu",
        "outputId": "e45e30ac-2698-4338-af7c-fd487a26560a"
      }
    },
    {
      "cell_type": "markdown",
      "source": [
        "* **Selecionando linhas e colunas:**"
      ],
      "metadata": {
        "id": "e-8RIj1J-bpu"
      }
    },
    {
      "cell_type": "code",
      "source": [
        "# Selecionando a segunda linha e a coluna 'idade'\n",
        "df.loc[1, 'idade']"
      ],
      "outputs": [
        {
          "output_type": "execute_result",
          "data": {
            "text/plain": [
              "25"
            ]
          },
          "metadata": {},
          "execution_count": 4
        }
      ],
      "execution_count": null,
      "metadata": {
        "colab": {
          "base_uri": "https://localhost:8080/"
        },
        "id": "VPFoArkz-bpv",
        "outputId": "4e080b36-ea6d-4865-9a96-016beb13252f"
      }
    },
    {
      "cell_type": "markdown",
      "source": [
        "* **Filtrando dados:**"
      ],
      "metadata": {
        "id": "ObeQJvKN-bpv"
      }
    },
    {
      "cell_type": "code",
      "source": [
        "# Selecionando linhas com idade maior que 25\n",
        "df[df['idade'] > 25]"
      ],
      "outputs": [
        {
          "output_type": "execute_result",
          "data": {
            "text/plain": [
              "   nome  idade     cidade\n",
              "0  João     30  São Paulo\n",
              "3   Ana     27   Salvador"
            ],
            "text/html": [
              "\n",
              "  <div id=\"df-c21642a2-c25e-43be-854f-fcb284526b65\" class=\"colab-df-container\">\n",
              "    <div>\n",
              "<style scoped>\n",
              "    .dataframe tbody tr th:only-of-type {\n",
              "        vertical-align: middle;\n",
              "    }\n",
              "\n",
              "    .dataframe tbody tr th {\n",
              "        vertical-align: top;\n",
              "    }\n",
              "\n",
              "    .dataframe thead th {\n",
              "        text-align: right;\n",
              "    }\n",
              "</style>\n",
              "<table border=\"1\" class=\"dataframe\">\n",
              "  <thead>\n",
              "    <tr style=\"text-align: right;\">\n",
              "      <th></th>\n",
              "      <th>nome</th>\n",
              "      <th>idade</th>\n",
              "      <th>cidade</th>\n",
              "    </tr>\n",
              "  </thead>\n",
              "  <tbody>\n",
              "    <tr>\n",
              "      <th>0</th>\n",
              "      <td>João</td>\n",
              "      <td>30</td>\n",
              "      <td>São Paulo</td>\n",
              "    </tr>\n",
              "    <tr>\n",
              "      <th>3</th>\n",
              "      <td>Ana</td>\n",
              "      <td>27</td>\n",
              "      <td>Salvador</td>\n",
              "    </tr>\n",
              "  </tbody>\n",
              "</table>\n",
              "</div>\n",
              "    <div class=\"colab-df-buttons\">\n",
              "\n",
              "  <div class=\"colab-df-container\">\n",
              "    <button class=\"colab-df-convert\" onclick=\"convertToInteractive('df-c21642a2-c25e-43be-854f-fcb284526b65')\"\n",
              "            title=\"Convert this dataframe to an interactive table.\"\n",
              "            style=\"display:none;\">\n",
              "\n",
              "  <svg xmlns=\"http://www.w3.org/2000/svg\" height=\"24px\" viewBox=\"0 -960 960 960\">\n",
              "    <path d=\"M120-120v-720h720v720H120Zm60-500h600v-160H180v160Zm220 220h160v-160H400v160Zm0 220h160v-160H400v160ZM180-400h160v-160H180v160Zm440 0h160v-160H620v160ZM180-180h160v-160H180v160Zm440 0h160v-160H620v160Z\"/>\n",
              "  </svg>\n",
              "    </button>\n",
              "\n",
              "  <style>\n",
              "    .colab-df-container {\n",
              "      display:flex;\n",
              "      gap: 12px;\n",
              "    }\n",
              "\n",
              "    .colab-df-convert {\n",
              "      background-color: #E8F0FE;\n",
              "      border: none;\n",
              "      border-radius: 50%;\n",
              "      cursor: pointer;\n",
              "      display: none;\n",
              "      fill: #1967D2;\n",
              "      height: 32px;\n",
              "      padding: 0 0 0 0;\n",
              "      width: 32px;\n",
              "    }\n",
              "\n",
              "    .colab-df-convert:hover {\n",
              "      background-color: #E2EBFA;\n",
              "      box-shadow: 0px 1px 2px rgba(60, 64, 67, 0.3), 0px 1px 3px 1px rgba(60, 64, 67, 0.15);\n",
              "      fill: #174EA6;\n",
              "    }\n",
              "\n",
              "    .colab-df-buttons div {\n",
              "      margin-bottom: 4px;\n",
              "    }\n",
              "\n",
              "    [theme=dark] .colab-df-convert {\n",
              "      background-color: #3B4455;\n",
              "      fill: #D2E3FC;\n",
              "    }\n",
              "\n",
              "    [theme=dark] .colab-df-convert:hover {\n",
              "      background-color: #434B5C;\n",
              "      box-shadow: 0px 1px 3px 1px rgba(0, 0, 0, 0.15);\n",
              "      filter: drop-shadow(0px 1px 2px rgba(0, 0, 0, 0.3));\n",
              "      fill: #FFFFFF;\n",
              "    }\n",
              "  </style>\n",
              "\n",
              "    <script>\n",
              "      const buttonEl =\n",
              "        document.querySelector('#df-c21642a2-c25e-43be-854f-fcb284526b65 button.colab-df-convert');\n",
              "      buttonEl.style.display =\n",
              "        google.colab.kernel.accessAllowed ? 'block' : 'none';\n",
              "\n",
              "      async function convertToInteractive(key) {\n",
              "        const element = document.querySelector('#df-c21642a2-c25e-43be-854f-fcb284526b65');\n",
              "        const dataTable =\n",
              "          await google.colab.kernel.invokeFunction('convertToInteractive',\n",
              "                                                    [key], {});\n",
              "        if (!dataTable) return;\n",
              "\n",
              "        const docLinkHtml = 'Like what you see? Visit the ' +\n",
              "          '<a target=\"_blank\" href=https://colab.research.google.com/notebooks/data_table.ipynb>data table notebook</a>'\n",
              "          + ' to learn more about interactive tables.';\n",
              "        element.innerHTML = '';\n",
              "        dataTable['output_type'] = 'display_data';\n",
              "        await google.colab.output.renderOutput(dataTable, element);\n",
              "        const docLink = document.createElement('div');\n",
              "        docLink.innerHTML = docLinkHtml;\n",
              "        element.appendChild(docLink);\n",
              "      }\n",
              "    </script>\n",
              "  </div>\n",
              "\n",
              "\n",
              "<div id=\"df-f59e2038-40e1-48f7-bdc9-07b3a3a48074\">\n",
              "  <button class=\"colab-df-quickchart\" onclick=\"quickchart('df-f59e2038-40e1-48f7-bdc9-07b3a3a48074')\"\n",
              "            title=\"Suggest charts\"\n",
              "            style=\"display:none;\">\n",
              "\n",
              "<svg xmlns=\"http://www.w3.org/2000/svg\" height=\"24px\"viewBox=\"0 0 24 24\"\n",
              "     width=\"24px\">\n",
              "    <g>\n",
              "        <path d=\"M19 3H5c-1.1 0-2 .9-2 2v14c0 1.1.9 2 2 2h14c1.1 0 2-.9 2-2V5c0-1.1-.9-2-2-2zM9 17H7v-7h2v7zm4 0h-2V7h2v10zm4 0h-2v-4h2v4z\"/>\n",
              "    </g>\n",
              "</svg>\n",
              "  </button>\n",
              "\n",
              "<style>\n",
              "  .colab-df-quickchart {\n",
              "      --bg-color: #E8F0FE;\n",
              "      --fill-color: #1967D2;\n",
              "      --hover-bg-color: #E2EBFA;\n",
              "      --hover-fill-color: #174EA6;\n",
              "      --disabled-fill-color: #AAA;\n",
              "      --disabled-bg-color: #DDD;\n",
              "  }\n",
              "\n",
              "  [theme=dark] .colab-df-quickchart {\n",
              "      --bg-color: #3B4455;\n",
              "      --fill-color: #D2E3FC;\n",
              "      --hover-bg-color: #434B5C;\n",
              "      --hover-fill-color: #FFFFFF;\n",
              "      --disabled-bg-color: #3B4455;\n",
              "      --disabled-fill-color: #666;\n",
              "  }\n",
              "\n",
              "  .colab-df-quickchart {\n",
              "    background-color: var(--bg-color);\n",
              "    border: none;\n",
              "    border-radius: 50%;\n",
              "    cursor: pointer;\n",
              "    display: none;\n",
              "    fill: var(--fill-color);\n",
              "    height: 32px;\n",
              "    padding: 0;\n",
              "    width: 32px;\n",
              "  }\n",
              "\n",
              "  .colab-df-quickchart:hover {\n",
              "    background-color: var(--hover-bg-color);\n",
              "    box-shadow: 0 1px 2px rgba(60, 64, 67, 0.3), 0 1px 3px 1px rgba(60, 64, 67, 0.15);\n",
              "    fill: var(--button-hover-fill-color);\n",
              "  }\n",
              "\n",
              "  .colab-df-quickchart-complete:disabled,\n",
              "  .colab-df-quickchart-complete:disabled:hover {\n",
              "    background-color: var(--disabled-bg-color);\n",
              "    fill: var(--disabled-fill-color);\n",
              "    box-shadow: none;\n",
              "  }\n",
              "\n",
              "  .colab-df-spinner {\n",
              "    border: 2px solid var(--fill-color);\n",
              "    border-color: transparent;\n",
              "    border-bottom-color: var(--fill-color);\n",
              "    animation:\n",
              "      spin 1s steps(1) infinite;\n",
              "  }\n",
              "\n",
              "  @keyframes spin {\n",
              "    0% {\n",
              "      border-color: transparent;\n",
              "      border-bottom-color: var(--fill-color);\n",
              "      border-left-color: var(--fill-color);\n",
              "    }\n",
              "    20% {\n",
              "      border-color: transparent;\n",
              "      border-left-color: var(--fill-color);\n",
              "      border-top-color: var(--fill-color);\n",
              "    }\n",
              "    30% {\n",
              "      border-color: transparent;\n",
              "      border-left-color: var(--fill-color);\n",
              "      border-top-color: var(--fill-color);\n",
              "      border-right-color: var(--fill-color);\n",
              "    }\n",
              "    40% {\n",
              "      border-color: transparent;\n",
              "      border-right-color: var(--fill-color);\n",
              "      border-top-color: var(--fill-color);\n",
              "    }\n",
              "    60% {\n",
              "      border-color: transparent;\n",
              "      border-right-color: var(--fill-color);\n",
              "    }\n",
              "    80% {\n",
              "      border-color: transparent;\n",
              "      border-right-color: var(--fill-color);\n",
              "      border-bottom-color: var(--fill-color);\n",
              "    }\n",
              "    90% {\n",
              "      border-color: transparent;\n",
              "      border-bottom-color: var(--fill-color);\n",
              "    }\n",
              "  }\n",
              "</style>\n",
              "\n",
              "  <script>\n",
              "    async function quickchart(key) {\n",
              "      const quickchartButtonEl =\n",
              "        document.querySelector('#' + key + ' button');\n",
              "      quickchartButtonEl.disabled = true;  // To prevent multiple clicks.\n",
              "      quickchartButtonEl.classList.add('colab-df-spinner');\n",
              "      try {\n",
              "        const charts = await google.colab.kernel.invokeFunction(\n",
              "            'suggestCharts', [key], {});\n",
              "      } catch (error) {\n",
              "        console.error('Error during call to suggestCharts:', error);\n",
              "      }\n",
              "      quickchartButtonEl.classList.remove('colab-df-spinner');\n",
              "      quickchartButtonEl.classList.add('colab-df-quickchart-complete');\n",
              "    }\n",
              "    (() => {\n",
              "      let quickchartButtonEl =\n",
              "        document.querySelector('#df-f59e2038-40e1-48f7-bdc9-07b3a3a48074 button');\n",
              "      quickchartButtonEl.style.display =\n",
              "        google.colab.kernel.accessAllowed ? 'block' : 'none';\n",
              "    })();\n",
              "  </script>\n",
              "</div>\n",
              "\n",
              "    </div>\n",
              "  </div>\n"
            ],
            "application/vnd.google.colaboratory.intrinsic+json": {
              "type": "dataframe",
              "summary": "{\n  \"name\": \"df[df['idade'] > 25]\",\n  \"rows\": 2,\n  \"fields\": [\n    {\n      \"column\": \"nome\",\n      \"properties\": {\n        \"dtype\": \"string\",\n        \"num_unique_values\": 2,\n        \"samples\": [\n          \"Ana\",\n          \"Jo\\u00e3o\"\n        ],\n        \"semantic_type\": \"\",\n        \"description\": \"\"\n      }\n    },\n    {\n      \"column\": \"idade\",\n      \"properties\": {\n        \"dtype\": \"number\",\n        \"std\": 2,\n        \"min\": 27,\n        \"max\": 30,\n        \"num_unique_values\": 2,\n        \"samples\": [\n          27,\n          30\n        ],\n        \"semantic_type\": \"\",\n        \"description\": \"\"\n      }\n    },\n    {\n      \"column\": \"cidade\",\n      \"properties\": {\n        \"dtype\": \"string\",\n        \"num_unique_values\": 2,\n        \"samples\": [\n          \"Salvador\",\n          \"S\\u00e3o Paulo\"\n        ],\n        \"semantic_type\": \"\",\n        \"description\": \"\"\n      }\n    }\n  ]\n}"
            }
          },
          "metadata": {},
          "execution_count": 16
        }
      ],
      "execution_count": null,
      "metadata": {
        "colab": {
          "base_uri": "https://localhost:8080/",
          "height": 112
        },
        "id": "bO4DB12_-bpv",
        "outputId": "28bb91cf-0b0d-49cc-dbb3-dfc023967eb5"
      }
    },
    {
      "cell_type": "markdown",
      "source": [
        "### 3. Manipulando Dados em um DataFrame:\n",
        "\n",
        "* **Adicionando colunas:**"
      ],
      "metadata": {
        "id": "KMX5qH9--bpw"
      }
    },
    {
      "cell_type": "code",
      "source": [
        "# Adicionando uma coluna 'estado' com base na primeira letra da cidade\n",
        "df['estado'] = df['cidade'].str[0]"
      ],
      "outputs": [],
      "execution_count": null,
      "metadata": {
        "id": "_Gtp3jrm-bpw"
      }
    },
    {
      "cell_type": "markdown",
      "source": [
        "* **Removendo colunas:**"
      ],
      "metadata": {
        "id": "ZGpEajwc-bpw"
      }
    },
    {
      "cell_type": "code",
      "source": [
        "# Removendo a coluna 'cidade'\n",
        "del df['cidade']"
      ],
      "outputs": [],
      "execution_count": null,
      "metadata": {
        "id": "9jnfHWPL-bpw"
      }
    },
    {
      "cell_type": "markdown",
      "source": [
        "* **Alterando valores:**"
      ],
      "metadata": {
        "id": "pUU6LG1m-bpx"
      }
    },
    {
      "cell_type": "code",
      "source": [
        "# Alterando a idade de Pedro para 23\n",
        "df.loc[df['nome'] == 'Pedro', 'idade'] = 23"
      ],
      "outputs": [],
      "execution_count": null,
      "metadata": {
        "id": "QFUrLKYA-bpx"
      }
    },
    {
      "cell_type": "markdown",
      "source": [
        "* **Agrupando dados:**"
      ],
      "metadata": {
        "id": "cooD9C-0-bpx"
      }
    },
    {
      "cell_type": "code",
      "source": [
        "# Agrupando por idade e calculando a média de idade por grupo\n",
        "df.groupby('idade')['idade'].mean()"
      ],
      "outputs": [
        {
          "output_type": "execute_result",
          "data": {
            "text/plain": [
              "idade\n",
              "23    23.0\n",
              "25    25.0\n",
              "27    27.0\n",
              "30    30.0\n",
              "Name: idade, dtype: float64"
            ]
          },
          "metadata": {},
          "execution_count": 10
        }
      ],
      "execution_count": null,
      "metadata": {
        "colab": {
          "base_uri": "https://localhost:8080/"
        },
        "id": "ffPep4NL-bpx",
        "outputId": "96b1614a-2d6b-4e78-98ce-81d02dbabd46"
      }
    },
    {
      "cell_type": "markdown",
      "source": [
        "* **Ordenando dados:**"
      ],
      "metadata": {
        "id": "3ZZbr3t9-bpx"
      }
    },
    {
      "cell_type": "code",
      "source": [
        "# Ordenando por nome em ordem alfabética\n",
        "df.sort_values(by='nome', inplace=True)\n",
        "df['nome']"
      ],
      "outputs": [
        {
          "output_type": "execute_result",
          "data": {
            "text/plain": [
              "3      Ana\n",
              "0     João\n",
              "1    Maria\n",
              "2    Pedro\n",
              "Name: nome, dtype: object"
            ]
          },
          "metadata": {},
          "execution_count": 12
        }
      ],
      "execution_count": null,
      "metadata": {
        "colab": {
          "base_uri": "https://localhost:8080/"
        },
        "id": "Oa-EnCfj-bpx",
        "outputId": "63a48d45-297f-4ad6-cf12-2b5af28560b4"
      }
    },
    {
      "cell_type": "markdown",
      "source": [
        "### 4. Funções Úteis do Pandas:\n",
        "\n",
        "* `.head()`: Exibe as primeiras linhas do DataFrame.\n",
        "* `.tail()`: Exibe as últimas linhas do DataFrame.\n",
        "* `.info()`: Exibe informações sobre o DataFrame, como número de linhas e colunas, tipos de dados e uso de memória.\n",
        "* `.describe()`: Exibe estatísticas descritivas dos dados numéricos no DataFrame, como média, mediana, desvio padrão e quartis.\n",
        "* `.fillna()`: Preenche valores ausentes em um DataFrame com um valor específico.\n",
        "* `.dropna()`: Remove linhas com valores ausentes em um DataFrame.\n",
        "\n",
        "### 5. Integração com outras Bibliotecas:\n",
        "\n",
        "O Pandas se integra facilmente com outras bibliotecas populares de Python, como NumPy e Matplotlib, permitindo análises mais complexas e visualizações de dados mais ricas.\n",
        "\n",
        "### 6. Exemplos Adicionais:\n",
        "\n",
        "* **Lendo dados de arquivos CSV:**"
      ],
      "metadata": {
        "id": "39O9qHLQ-bpy"
      }
    },
    {
      "cell_type": "code",
      "source": [
        "# Lendo dados do arquivo 'dados.csv' para um DataFrame\n",
        "df = pd.read_csv('dados.csv')"
      ],
      "outputs": [],
      "execution_count": null,
      "metadata": {
        "id": "l4KXL7SE-bpy"
      }
    },
    {
      "cell_type": "markdown",
      "source": [
        "* **Escrevendo dados em arquivos CSV:**"
      ],
      "metadata": {
        "id": "fBYOzpBD-bpy"
      }
    },
    {
      "cell_type": "code",
      "source": [
        "# Salvando o DataFrame 'df' no arquivo 'novo_dados.csv'\n",
        "df.to_csv('novo_dados.csv', index=False)"
      ],
      "outputs": [],
      "execution_count": null,
      "metadata": {
        "id": "UOqRU5f_-bpy"
      }
    },
    {
      "cell_type": "markdown",
      "source": [
        "* **Criando gráficos com Matplotlib:**"
      ],
      "metadata": {
        "id": "ArIV5L5H-bpy"
      }
    },
    {
      "cell_type": "code",
      "source": [
        "# Criando um gráfico de barras para a coluna 'idade'\n",
        "df['idade'].plot(kind='bar')\n",
        "plt.show()"
      ],
      "outputs": [
        {
          "output_type": "display_data",
          "data": {
            "text/plain": [
              "<Figure size 640x480 with 1 Axes>"
            ],
            "image/png": "[encoded data removed]"
          },
          "metadata": {}
        }
      ],
      "execution_count": 3,
      "metadata": {
        "colab": {
          "base_uri": "https://localhost:8080/",
          "height": 425
        },
        "id": "zRfMPWFz-bpy",
        "outputId": "1cfe0cf6-f392-43b2-c135-cf34e2f6e05b"
      }
    },
    {
      "cell_type": "markdown",
      "source": [
        "* **Documentação oficial do Pandas:** [https://pandas.pydata.org/docs/](https://pandas.pydata.org/docs/)\n",
        "\n"
      ],
      "metadata": {
        "id": "pNAhVWD4-bpy"
      }
    }
  ],
  "metadata": {
    "colab": {
      "provenance": [],
      "include_colab_link": true
    },
    "kernelspec": {
      "display_name": "Python 3",
      "name": "python3"
    }
  },
  "nbformat": 4,
  "nbformat_minor": 0
}