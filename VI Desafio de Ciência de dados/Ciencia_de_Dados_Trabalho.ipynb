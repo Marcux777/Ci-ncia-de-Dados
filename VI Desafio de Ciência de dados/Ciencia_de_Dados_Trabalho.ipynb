{
  "cells": [
    {
      "cell_type": "markdown",
      "metadata": {
        "id": "view-in-github",
        "colab_type": "text"
      },
      "source": [
        "<a href=\"https://colab.research.google.com/github/Marcux777/Ci-ncia-de-Dados/blob/main/VI%20Desafio%20de%20Ci%C3%AAncia%20de%20dados/Ciencia_de_Dados_Trabalho.ipynb\" target=\"_parent\"><img src=\"https://colab.research.google.com/assets/colab-badge.svg\" alt=\"Open In Colab\"/></a>"
      ]
    },
    {
      "cell_type": "code",
      "source": [
        "from google.colab import drive\n",
        "from google.colab import files\n",
        "drive.mount('/content/drive')\n"
      ],
      "metadata": {
        "colab": {
          "base_uri": "https://localhost:8080/"
        },
        "id": "eYt-dHreEhPp",
        "outputId": "65570869-5e7c-4ca6-96f2-af11f73f8593"
      },
      "execution_count": null,
      "outputs": [
        {
          "output_type": "stream",
          "name": "stdout",
          "text": [
            "Mounted at /content/drive\n"
          ]
        }
      ]
    },
    {
      "cell_type": "code",
      "source": [
        "!pip install googlemaps"
      ],
      "metadata": {
        "colab": {
          "base_uri": "https://localhost:8080/"
        },
        "id": "HFwgK15nFkPW",
        "outputId": "80538822-1da8-46f8-92ea-d16e336ae3e5"
      },
      "execution_count": null,
      "outputs": [
        {
          "output_type": "stream",
          "name": "stdout",
          "text": [
            "Collecting googlemaps\n",
            "  Downloading googlemaps-4.10.0.tar.gz (33 kB)\n",
            "  Preparing metadata (setup.py) ... \u001b[?25l\u001b[?25hdone\n",
            "Requirement already satisfied: requests<3.0,>=2.20.0 in /usr/local/lib/python3.10/dist-packages (from googlemaps) (2.31.0)\n",
            "Requirement already satisfied: charset-normalizer<4,>=2 in /usr/local/lib/python3.10/dist-packages (from requests<3.0,>=2.20.0->googlemaps) (3.3.2)\n",
            "Requirement already satisfied: idna<4,>=2.5 in /usr/local/lib/python3.10/dist-packages (from requests<3.0,>=2.20.0->googlemaps) (3.7)\n",
            "Requirement already satisfied: urllib3<3,>=1.21.1 in /usr/local/lib/python3.10/dist-packages (from requests<3.0,>=2.20.0->googlemaps) (2.0.7)\n",
            "Requirement already satisfied: certifi>=2017.4.17 in /usr/local/lib/python3.10/dist-packages (from requests<3.0,>=2.20.0->googlemaps) (2024.2.2)\n",
            "Building wheels for collected packages: googlemaps\n",
            "  Building wheel for googlemaps (setup.py) ... \u001b[?25l\u001b[?25hdone\n",
            "  Created wheel for googlemaps: filename=googlemaps-4.10.0-py3-none-any.whl size=40712 sha256=e8ac6fc05613e48712177cd80e7b7de15d4fcb29281242e0f4e8487a82f08236\n",
            "  Stored in directory: /root/.cache/pip/wheels/17/f8/79/999d5d37118fd35d7219ef57933eb9d09886c4c4503a800f84\n",
            "Successfully built googlemaps\n",
            "Installing collected packages: googlemaps\n",
            "Successfully installed googlemaps-4.10.0\n"
          ]
        }
      ]
    },
    {
      "cell_type": "markdown",
      "metadata": {
        "id": "9pDiVRoXEgQh"
      },
      "source": [
        "Importando as bibliotecas que usaremos"
      ]
    },
    {
      "cell_type": "code",
      "execution_count": null,
      "metadata": {
        "id": "XmV_6z5EEgQj"
      },
      "outputs": [],
      "source": [
        "import pandas as pd\n",
        "import math\n",
        "import numpy as np\n",
        "import googlemaps as maps\n",
        "import plotly.express as px\n",
        "import geopandas as gpd\n",
        "import folium\n",
        "from folium import Circle, Marker\n",
        "from folium.plugins import HeatMap, MarkerCluster"
      ]
    },
    {
      "cell_type": "markdown",
      "metadata": {
        "id": "0ZFCf4JVEgQl"
      },
      "source": [
        "Abrindo o arquivo excel:"
      ]
    },
    {
      "cell_type": "code",
      "execution_count": null,
      "metadata": {
        "colab": {
          "base_uri": "https://localhost:8080/"
        },
        "id": "5A_l9YKaEgQl",
        "outputId": "aa846b40-df7b-4fa5-e23e-263b380ad574"
      },
      "outputs": [
        {
          "output_type": "stream",
          "name": "stdout",
          "text": [
            "  ocorrencia_classificacao  ocorrencia_latitude  ocorrencia_longitude  \\\n",
            "0          INCIDENTE GRAVE        -9.868333e+12         -6.789806e+12   \n",
            "1                 ACIDENTE        -1.220417e+12         -5.623778e+12   \n",
            "2                 ACIDENTE        -1.220417e+12         -5.623778e+12   \n",
            "3                 ACIDENTE        -1.220417e+12         -5.623778e+12   \n",
            "4                 ACIDENTE        -1.220417e+12         -5.623778e+12   \n",
            "\n",
            "   ocorrencia_cidade ocorrencia_uf ocorrencia_pais ocorrencia_aerodromo  \\\n",
            "0         RIO BRANCO            AC          BRASIL                 SBRB   \n",
            "1  IPIRANGA DO NORTE            MT          BRASIL    Fora de aerodromo   \n",
            "2  IPIRANGA DO NORTE            MT          BRASIL    Fora de aerodromo   \n",
            "3  IPIRANGA DO NORTE            MT          BRASIL    Fora de aerodromo   \n",
            "4  IPIRANGA DO NORTE            MT          BRASIL    Fora de aerodromo   \n",
            "\n",
            "  ocorrencia_dia ocorrencia_hora investigacao_aeronave_liberada  ...  \\\n",
            "0     2022-04-14        17:45:00                            SIM  ...   \n",
            "1     2022-03-24        19:30:00                            SIM  ...   \n",
            "2     2022-03-24        19:30:00                            SIM  ...   \n",
            "3     2022-03-24        19:30:00                            SIM  ...   \n",
            "4     2022-03-24        19:30:00                            SIM  ...   \n",
            "\n",
            "   aeronave_voo_origem aeronave_voo_destino aeronave_fase_operacao  \\\n",
            "0  SANTA ROSA DO PURUS    PLÁCIDO DE CASTRO      APROXIMAÇÃO FINAL   \n",
            "1    FORA DE AERODROMO    FORA DE AERODROMO                MANOBRA   \n",
            "2    FORA DE AERODROMO    FORA DE AERODROMO                MANOBRA   \n",
            "3    FORA DE AERODROMO    FORA DE AERODROMO                MANOBRA   \n",
            "4    FORA DE AERODROMO    FORA DE AERODROMO                MANOBRA   \n",
            "\n",
            "  aeronave_tipo_operacao  aeronave_nivel_dano  aeronave_fatalidades_total  \\\n",
            "0             TÁXI AÉREO               NENHUM                           0   \n",
            "1               AGRÍCOLA          SUBSTANCIAL                           0   \n",
            "2               AGRÍCOLA          SUBSTANCIAL                           0   \n",
            "3               AGRÍCOLA          SUBSTANCIAL                           0   \n",
            "4               AGRÍCOLA          SUBSTANCIAL                           0   \n",
            "\n",
            "                fator_nome             fator_aspecto   fator_condicionante  \\\n",
            "0     SUPERVISÃO GERENCIAL  DESEMPENHO DO SER HUMANO  OPERAÇÃO DA AERONAVE   \n",
            "1                  ATENÇÃO       ASPECTO PSICOLÓGICO            INDIVIDUAL   \n",
            "2                  ATITUDE       ASPECTO PSICOLÓGICO            INDIVIDUAL   \n",
            "3  JULGAMENTO DE PILOTAGEM  DESEMPENHO DO SER HUMANO  OPERAÇÃO DA AERONAVE   \n",
            "4                PERCEPÇÃO       ASPECTO PSICOLÓGICO            INDIVIDUAL   \n",
            "\n",
            "          fator_area  \n",
            "0  FATOR OPERACIONAL  \n",
            "1       FATOR HUMANO  \n",
            "2       FATOR HUMANO  \n",
            "3  FATOR OPERACIONAL  \n",
            "4       FATOR HUMANO  \n",
            "\n",
            "[5 rows x 53 columns]\n"
          ]
        }
      ],
      "source": [
        "df = pd.read_excel('/content/drive/My Drive/Ciencia de dados/acidentesTransito_cenipa_2010a2021.xlsx', engine='openpyxl')\n",
        "print(df.head())\n"
      ]
    },
    {
      "cell_type": "markdown",
      "metadata": {
        "id": "1PzDJLQdEgQn"
      },
      "source": [
        "Tratamento dos dados dentro do data frame:"
      ]
    },
    {
      "cell_type": "code",
      "execution_count": null,
      "metadata": {
        "id": "DUS1fmqyEgQn",
        "outputId": "72084ebe-40ef-4b69-b15e-9791a5d19884",
        "colab": {
          "base_uri": "https://localhost:8080/"
        }
      },
      "outputs": [
        {
          "output_type": "stream",
          "name": "stdout",
          "text": [
            "(618, 53)\n",
            "ocorrencia_classificacao             0\n",
            "ocorrencia_latitude                 56\n",
            "ocorrencia_longitude                55\n",
            "ocorrencia_cidade                    0\n",
            "ocorrencia_uf                        0\n",
            "ocorrencia_pais                      0\n",
            "ocorrencia_aerodromo                 0\n",
            "ocorrencia_dia                       0\n",
            "ocorrencia_hora                      0\n",
            "investigacao_aeronave_liberada     105\n",
            "investigacao_status                  0\n",
            "divulgacao_relatorio_numero          3\n",
            "divulgacao_relatorio_publicado       0\n",
            "divulgacao_dia_publicacao            0\n",
            "total_recomendacoes                  0\n",
            "total_aeronaves_envolvidas           0\n",
            "ocorrencia_saida_pista               0\n",
            "ocorrencia_tipo                      1\n",
            "ocorrencia_tipo_categoria            1\n",
            "taxonomia_tipo_icao                  1\n",
            "recomendacao_numero                  0\n",
            "recomendacao_dia_assinatura          0\n",
            "recomendacao_dia_encaminhamento      0\n",
            "recomendacao_dia_feedback           88\n",
            "recomendacao_conteudo                0\n",
            "recomendacao_status                  6\n",
            "recomendacao_destinatario_sigla      0\n",
            "recomendacao_destinatario            0\n",
            "aeronave_matricula                   0\n",
            "aeronave_tipo_veiculo                8\n",
            "aeronave_fabricante                 18\n",
            "aeronave_modelo                      8\n",
            "aeronave_tipo_icao                  13\n",
            "aeronave_motor_tipo                 13\n",
            "aeronave_motor_quantidade            3\n",
            "aeronave_pmd                         0\n",
            "aeronave_pmd_categoria               0\n",
            "aeronave_assentos                    9\n",
            "aeronave_ano_fabricacao              8\n",
            "aeronave_pais_fabricante             0\n",
            "aeronave_pais_registro               0\n",
            "aeronave_registro_categoria          8\n",
            "aeronave_registro_segmento           5\n",
            "aeronave_voo_origem                  0\n",
            "aeronave_voo_destino                 0\n",
            "aeronave_fase_operacao               0\n",
            "aeronave_tipo_operacao               4\n",
            "aeronave_nivel_dano                  3\n",
            "aeronave_fatalidades_total           0\n",
            "fator_nome                           0\n",
            "fator_aspecto                        0\n",
            "fator_condicionante                 68\n",
            "fator_area                           0\n",
            "dtype: int64\n"
          ]
        }
      ],
      "source": [
        "## Buscando e removendo dados duplicados, caso haja\n",
        "df.drop_duplicates()\n",
        "## Removendo as linhas duplicadas\n",
        "df = df.drop_duplicates(subset=['aeronave_matricula'])\n",
        "print(df.shape)\n",
        "# verificando quantas coordenas nulas eu tenho\n",
        "print(df.isnull().sum())"
      ]
    },
    {
      "cell_type": "markdown",
      "metadata": {
        "id": "Qe7DSuwFEgQo"
      },
      "source": [
        "Remover onde a latitude ou longitude são nulas, não quero elas\n"
      ]
    },
    {
      "cell_type": "code",
      "execution_count": null,
      "metadata": {
        "id": "m05w2tFNEgQo",
        "outputId": "95627a60-85a1-4328-c66d-d7c104c05a94",
        "colab": {
          "base_uri": "https://localhost:8080/"
        }
      },
      "outputs": [
        {
          "output_type": "stream",
          "name": "stdout",
          "text": [
            "ocorrencia_classificacao            0\n",
            "ocorrencia_latitude                 0\n",
            "ocorrencia_longitude                0\n",
            "ocorrencia_cidade                   0\n",
            "ocorrencia_uf                       0\n",
            "ocorrencia_pais                     0\n",
            "ocorrencia_aerodromo                0\n",
            "ocorrencia_dia                      0\n",
            "ocorrencia_hora                     0\n",
            "investigacao_aeronave_liberada     96\n",
            "investigacao_status                 0\n",
            "divulgacao_relatorio_numero         1\n",
            "divulgacao_relatorio_publicado      0\n",
            "divulgacao_dia_publicacao           0\n",
            "total_recomendacoes                 0\n",
            "total_aeronaves_envolvidas          0\n",
            "ocorrencia_saida_pista              0\n",
            "ocorrencia_tipo                     1\n",
            "ocorrencia_tipo_categoria           1\n",
            "taxonomia_tipo_icao                 1\n",
            "recomendacao_numero                 0\n",
            "recomendacao_dia_assinatura         0\n",
            "recomendacao_dia_encaminhamento     0\n",
            "recomendacao_dia_feedback          85\n",
            "recomendacao_conteudo               0\n",
            "recomendacao_status                 6\n",
            "recomendacao_destinatario_sigla     0\n",
            "recomendacao_destinatario           0\n",
            "aeronave_matricula                  0\n",
            "aeronave_tipo_veiculo               8\n",
            "aeronave_fabricante                17\n",
            "aeronave_modelo                     8\n",
            "aeronave_tipo_icao                 12\n",
            "aeronave_motor_tipo                13\n",
            "aeronave_motor_quantidade           3\n",
            "aeronave_pmd                        0\n",
            "aeronave_pmd_categoria              0\n",
            "aeronave_assentos                   9\n",
            "aeronave_ano_fabricacao             8\n",
            "aeronave_pais_fabricante            0\n",
            "aeronave_pais_registro              0\n",
            "aeronave_registro_categoria         8\n",
            "aeronave_registro_segmento          5\n",
            "aeronave_voo_origem                 0\n",
            "aeronave_voo_destino                0\n",
            "aeronave_fase_operacao              0\n",
            "aeronave_tipo_operacao              4\n",
            "aeronave_nivel_dano                 3\n",
            "aeronave_fatalidades_total          0\n",
            "fator_nome                          0\n",
            "fator_aspecto                       0\n",
            "fator_condicionante                61\n",
            "fator_area                          0\n",
            "dtype: int64\n"
          ]
        }
      ],
      "source": [
        "df.dropna(subset=['ocorrencia_latitude'], inplace=True)\n",
        "df.dropna(subset=['ocorrencia_longitude'], inplace=True)\n",
        "print(df.isnull().sum())"
      ]
    },
    {
      "cell_type": "markdown",
      "metadata": {
        "id": "zbVjD8pNEgQo"
      },
      "source": [
        "Passar para numerico, caso haja algum valor que não esteja numerico"
      ]
    },
    {
      "cell_type": "code",
      "execution_count": null,
      "metadata": {
        "id": "EfcmBKXrEgQo"
      },
      "outputs": [],
      "source": [
        "df['ocorrencia_latitude'] = pd.to_numeric(df['ocorrencia_latitude'])\n",
        "df['ocorrencia_longitude'] = pd.to_numeric(df['ocorrencia_longitude'])\n"
      ]
    },
    {
      "cell_type": "markdown",
      "metadata": {
        "id": "SgORzwe9EgQp"
      },
      "source": [
        "Formatar as coordenadas"
      ]
    },
    {
      "cell_type": "code",
      "execution_count": null,
      "metadata": {
        "id": "prwRkK17EgQp"
      },
      "outputs": [],
      "source": [
        "estados_brasileiros = {\n",
        "    \"AC\": (-9.115833, -67.784167),\n",
        "    \"AL\": (-9.616667, -35.733333),\n",
        "    \"AP\": (1.45, -51.75),\n",
        "    \"AM\": (-3.100833, -60.025),\n",
        "    \"BA\": (-12.971111, -38.477778),\n",
        "    \"CE\": (-3.716667, -38.541667),\n",
        "    \"DF\": (-15.794444, -47.882222),\n",
        "    \"ES\": (-19.926111, -40.302778),\n",
        "    \"GO\": (-15.981667, -49.253056),\n",
        "    \"MA\": (-2.533333, -44.25),\n",
        "    \"MT\": (-12.65, -55.45),\n",
        "    \"MS\": (-20.448611, -54.627222),\n",
        "    \"MG\": (-19.926111, -43.937222),\n",
        "    \"PA\": (-1.458056, -48.483333),\n",
        "    \"PB\": (-7.109444, -35.874444),\n",
        "    \"PR\": (-25.428889, -51.521111),\n",
        "    \"PE\": (-8.058333, -34.879167),\n",
        "    \"PI\": (-7.216667, -41.766667),\n",
        "    \"RJ\": (-22.908333, -43.196111),\n",
        "    \"RN\": (-5.808889, -35.201111),\n",
        "    \"RS\": (-30.033333, -51.216667),\n",
        "    \"RO\": (-10.748889, -62.658056),\n",
        "    \"RR\": (2.816667, -60.675),\n",
        "    \"SC\": (-27.594444, -48.541667),\n",
        "    \"SP\": (-23.550556, -46.633333),\n",
        "    \"SE\": (-10.916667, -37.066667),\n",
        "    \"TO\": (-10.183333, -48.325)\n",
        "}\n"
      ]
    },
    {
      "cell_type": "markdown",
      "metadata": {
        "id": "JCNYRS06EgQp"
      },
      "source": [
        "Atualizando a coluna da longitude, com os valores formadados."
      ]
    },
    {
      "cell_type": "code",
      "execution_count": null,
      "metadata": {
        "id": "vG_patsaEgQp"
      },
      "outputs": [],
      "source": [
        "for index, row in df['ocorrencia_longitude'].items():\n",
        "\n",
        "    if not np.isnan(row):\n",
        "        log_base_10 = np.log10(abs(row))\n",
        "        divisor = math.ceil(log_base_10) - 2\n",
        "        if divisor != 0:\n",
        "            df.loc[index, 'ocorrencia_longitude'] = row / (10**divisor)\n",
        "        #print(index, row, df.loc[index, 'ocorrencia_longitude'])\n",
        "\n"
      ]
    },
    {
      "cell_type": "markdown",
      "metadata": {
        "id": "6G0QMo_qEgQq"
      },
      "source": [
        "Atualizando a coluna da latitude, com os valores formatados."
      ]
    },
    {
      "cell_type": "code",
      "execution_count": null,
      "metadata": {
        "id": "8ssU8mbXEgQq",
        "outputId": "6f5828cc-f3d5-4aa3-d2df-c2ce5d9d7546",
        "colab": {
          "base_uri": "https://localhost:8080/"
        }
      },
      "outputs": [
        {
          "output_type": "stream",
          "name": "stdout",
          "text": [
            "     ocorrencia_classificacao  ocorrencia_latitude  ocorrencia_longitude  \\\n",
            "4151                 ACIDENTE           -33.384722            -53.254444   \n",
            "404                  ACIDENTE           -33.176944            -53.014167   \n",
            "1193                 ACIDENTE           -32.443611            -52.561667   \n",
            "1070                 ACIDENTE           -32.415560            -52.526670   \n",
            "4941                 ACIDENTE           -32.409722            -53.445000   \n",
            "...                       ...                  ...                   ...   \n",
            "3762                 ACIDENTE             2.791667            -60.590000   \n",
            "130                  ACIDENTE             3.146111            -62.230278   \n",
            "4483                 ACIDENTE             3.763333            -62.409444   \n",
            "4469                 ACIDENTE             5.084167            -60.345556   \n",
            "5009          INCIDENTE GRAVE             8.713611             63.902778   \n",
            "\n",
            "            ocorrencia_cidade ocorrencia_uf ocorrencia_pais  \\\n",
            "4151  SANTA VITÓRIA DO PALMAR            RS          BRASIL   \n",
            "404   SANTA VITÓRIA DO PALMAR            RS          BRASIL   \n",
            "1193               RIO GRANDE            RS          BRASIL   \n",
            "1070               RIO GRANDE            RS          BRASIL   \n",
            "4941                 JAGUARÃO            RS          BRASIL   \n",
            "...                       ...           ...             ...   \n",
            "3762                    CANTÁ            RR          BRASIL   \n",
            "130               ALTO ALEGRE            RR          BRASIL   \n",
            "4483                  AMAJARI            RR          BRASIL   \n",
            "4469                 UIRAMUTÃ            RR          BRASIL   \n",
            "5009              PORTO VELHO            RO          BRASIL   \n",
            "\n",
            "     ocorrencia_aerodromo ocorrencia_dia ocorrencia_hora  \\\n",
            "4151    Fora de aerodromo     2016-12-15        18:40:00   \n",
            "404     Fora de aerodromo     2020-12-06        13:15:00   \n",
            "1193    Fora de aerodromo     2019-09-05        10:50:00   \n",
            "1070    Fora de aerodromo     2019-12-06        10:50:00   \n",
            "4941    Fora de aerodromo     2015-11-08        10:45:00   \n",
            "...                   ...            ...             ...   \n",
            "3762                 SWPD     2017-07-03        15:10:00   \n",
            "130                  SJNC     2021-09-05        19:00:00   \n",
            "4483                 SWAQ     2016-04-05        16:05:00   \n",
            "4469                 SJLO     2016-04-09        19:30:00   \n",
            "5009                 SBPV     2015-10-23        20:00:00   \n",
            "\n",
            "     investigacao_aeronave_liberada  ... aeronave_voo_origem  \\\n",
            "4151                            SIM  ...   FORA DE AERODROMO   \n",
            "404                             SIM  ...   PISTA PLÁ E SILVA   \n",
            "1193                            SIM  ...   FORA DE AERODROMO   \n",
            "1070                            SIM  ...   FORA DE AERODROMO   \n",
            "4941                            SIM  ...   FORA DE AERODROMO   \n",
            "...                             ...  ...                 ...   \n",
            "3762                            SIM  ...      POUSO DA ÁGUIA   \n",
            "130                             SIM  ...          URARICOERA   \n",
            "4483                            SIM  ...      POUSO DA ÁGUIA   \n",
            "4469                            SIM  ...      POUSO DA ÁGUIA   \n",
            "5009                            SIM  ...           ARIQUEMES   \n",
            "\n",
            "                       aeronave_voo_destino aeronave_fase_operacao  \\\n",
            "4151                      FORA DE AERODROMO          ESPECIALIZADA   \n",
            "404                       PISTA PLÁ E SILVA                MANOBRA   \n",
            "1193                      FORA DE AERODROMO                MANOBRA   \n",
            "1070                      FORA DE AERODROMO                  POUSO   \n",
            "4941                      FORA DE AERODROMO              DECOLAGEM   \n",
            "...                                     ...                    ...   \n",
            "3762                                 UAICAS              DECOLAGEM   \n",
            "130                          POUSO DA ÁGUIA              DECOLAGEM   \n",
            "4483                                  ÉRICO     CORRIDA APÓS POUSO   \n",
            "4469                                MANALAI    CIRCUITO DE TRÁFEGO   \n",
            "5009  GOVERNADOR JORGE TEIXEIRA DE OLIVEIRA     CORRIDA APÓS POUSO   \n",
            "\n",
            "     aeronave_tipo_operacao  aeronave_nivel_dano  aeronave_fatalidades_total  \\\n",
            "4151               AGRÍCOLA          SUBSTANCIAL                           0   \n",
            "404                AGRÍCOLA          SUBSTANCIAL                           0   \n",
            "1193               AGRÍCOLA          SUBSTANCIAL                           0   \n",
            "1070               AGRÍCOLA          SUBSTANCIAL                           0   \n",
            "4941               AGRÍCOLA          SUBSTANCIAL                           0   \n",
            "...                     ...                  ...                         ...   \n",
            "3762             TÁXI AÉREO            DESTRUÍDA                           4   \n",
            "130              TÁXI AÉREO          SUBSTANCIAL                           0   \n",
            "4483             TÁXI AÉREO          SUBSTANCIAL                           0   \n",
            "4469             TÁXI AÉREO          SUBSTANCIAL                           0   \n",
            "5009                PRIVADA               NENHUM                           0   \n",
            "\n",
            "                        fator_nome                 fator_aspecto  \\\n",
            "4151        MANUTENÇÃO DA AERONAVE      DESEMPENHO DO SER HUMANO   \n",
            "404          APLICAÇÃO DE COMANDOS      DESEMPENHO DO SER HUMANO   \n",
            "1193                       ATITUDE           ASPECTO PSICOLÓGICO   \n",
            "1070                       ATENÇÃO           ASPECTO PSICOLÓGICO   \n",
            "4941        CULTURA ORGANIZACIONAL           ASPECTO PSICOLÓGICO   \n",
            "...                            ...                           ...   \n",
            "3762        CULTURA ORGANIZACIONAL           ASPECTO PSICOLÓGICO   \n",
            "130            PLANEJAMENTO DE VOO      DESEMPENHO DO SER HUMANO   \n",
            "4483                       ATITUDE           ASPECTO PSICOLÓGICO   \n",
            "4469         APLICAÇÃO DE COMANDOS      DESEMPENHO DO SER HUMANO   \n",
            "5009  INFRAESTRUTURA AEROPORTUÁRIA  INFRAESTRUTURA AEROPORTUÁRIA   \n",
            "\n",
            "         fator_condicionante         fator_area  \n",
            "4151  MANUTENÇÃO DA AERONAVE  FATOR OPERACIONAL  \n",
            "404     OPERAÇÃO DA AERONAVE  FATOR OPERACIONAL  \n",
            "1193              INDIVIDUAL       FATOR HUMANO  \n",
            "1070              INDIVIDUAL       FATOR HUMANO  \n",
            "4941          ORGANIZACIONAL       FATOR HUMANO  \n",
            "...                      ...                ...  \n",
            "3762          ORGANIZACIONAL       FATOR HUMANO  \n",
            "130     OPERAÇÃO DA AERONAVE  FATOR OPERACIONAL  \n",
            "4483              INDIVIDUAL       FATOR HUMANO  \n",
            "4469    OPERAÇÃO DA AERONAVE  FATOR OPERACIONAL  \n",
            "5009                     NaN  FATOR OPERACIONAL  \n",
            "\n",
            "[562 rows x 53 columns]\n"
          ]
        }
      ],
      "source": [
        "for index, row in df['ocorrencia_latitude'].items():\n",
        "    if not np.isnan(row):\n",
        "        log_base_10 = np.log10(abs(row))\n",
        "        divisor = math.ceil(log_base_10)\n",
        "        if(row > 0):\n",
        "            divisor -= 1\n",
        "            df.loc[index, 'ocorrencia_latitude'] = row / (10 ** divisor)\n",
        "        else:\n",
        "            estado = df['ocorrencia_uf'].loc[index]  # Converte a Series em uma string\n",
        "\n",
        "            divisor -= 2\n",
        "            value = row/(10**divisor)\n",
        "            if(abs(value - estados_brasileiros[estado][0]) > 10):\n",
        "                value /= 10\n",
        "            df.loc[index, 'ocorrencia_latitude'] = value\n",
        "\n",
        "\n",
        "list = df.sort_values(by='ocorrencia_latitude')\n",
        "print(list)\n"
      ]
    },
    {
      "cell_type": "markdown",
      "metadata": {
        "id": "tPzlLjcvEgQq"
      },
      "source": [
        "Mapa com as coordenadas"
      ]
    },
    {
      "cell_type": "code",
      "execution_count": null,
      "metadata": {
        "id": "j_gfWXdkEgQq"
      },
      "outputs": [],
      "source": [
        "import folium\n",
        "\n",
        "\n",
        "# Extraindo as colunas de latitude e longitude\n",
        "latitudes = df['ocorrencia_latitude']\n",
        "longitudes = df['ocorrencia_longitude']\n",
        "\n",
        "# Criando o mapa\n",
        "mapa_mundo = folium.Map(location=[0, 0], zoom_start=2, tiles ='cartodbpositron')\n",
        "\n",
        "# Adicionando marcadores\n",
        "for lat, lon in zip(latitudes, longitudes):\n",
        "  folium.Marker([lat, lon], popup=f\"Incidente\").add_to(mapa_mundo)\n",
        "\n",
        "\n",
        "# Salvando o mapa\n",
        "#mapa_mundo.save('mapa_mundo.html')\n",
        "\n",
        "#mapa_mundo\n"
      ]
    },
    {
      "cell_type": "markdown",
      "metadata": {
        "id": "yH_Wk0RpEgQq"
      },
      "source": [
        "Criando uma nova coluna com a data e a hora formatadas"
      ]
    },
    {
      "cell_type": "code",
      "execution_count": null,
      "metadata": {
        "id": "-a3Xr22GEgQr",
        "outputId": "076bfae0-7dd8-4344-b3f1-752f0eb4014b",
        "colab": {
          "base_uri": "https://localhost:8080/",
          "height": 478
        }
      },
      "outputs": [
        {
          "output_type": "error",
          "ename": "KeyError",
          "evalue": "'ocorrencia_dia'",
          "traceback": [
            "\u001b[0;31m---------------------------------------------------------------------------\u001b[0m",
            "\u001b[0;31mKeyError\u001b[0m                                  Traceback (most recent call last)",
            "\u001b[0;32m/usr/local/lib/python3.10/dist-packages/pandas/core/indexes/base.py\u001b[0m in \u001b[0;36mget_loc\u001b[0;34m(self, key)\u001b[0m\n\u001b[1;32m   3652\u001b[0m         \u001b[0;32mtry\u001b[0m\u001b[0;34m:\u001b[0m\u001b[0;34m\u001b[0m\u001b[0;34m\u001b[0m\u001b[0m\n\u001b[0;32m-> 3653\u001b[0;31m             \u001b[0;32mreturn\u001b[0m \u001b[0mself\u001b[0m\u001b[0;34m.\u001b[0m\u001b[0m_engine\u001b[0m\u001b[0;34m.\u001b[0m\u001b[0mget_loc\u001b[0m\u001b[0;34m(\u001b[0m\u001b[0mcasted_key\u001b[0m\u001b[0;34m)\u001b[0m\u001b[0;34m\u001b[0m\u001b[0;34m\u001b[0m\u001b[0m\n\u001b[0m\u001b[1;32m   3654\u001b[0m         \u001b[0;32mexcept\u001b[0m \u001b[0mKeyError\u001b[0m \u001b[0;32mas\u001b[0m \u001b[0merr\u001b[0m\u001b[0;34m:\u001b[0m\u001b[0;34m\u001b[0m\u001b[0;34m\u001b[0m\u001b[0m\n",
            "\u001b[0;32m/usr/local/lib/python3.10/dist-packages/pandas/_libs/index.pyx\u001b[0m in \u001b[0;36mpandas._libs.index.IndexEngine.get_loc\u001b[0;34m()\u001b[0m\n",
            "\u001b[0;32m/usr/local/lib/python3.10/dist-packages/pandas/_libs/index.pyx\u001b[0m in \u001b[0;36mpandas._libs.index.IndexEngine.get_loc\u001b[0;34m()\u001b[0m\n",
            "\u001b[0;32mpandas/_libs/hashtable_class_helper.pxi\u001b[0m in \u001b[0;36mpandas._libs.hashtable.PyObjectHashTable.get_item\u001b[0;34m()\u001b[0m\n",
            "\u001b[0;32mpandas/_libs/hashtable_class_helper.pxi\u001b[0m in \u001b[0;36mpandas._libs.hashtable.PyObjectHashTable.get_item\u001b[0;34m()\u001b[0m\n",
            "\u001b[0;31mKeyError\u001b[0m: 'ocorrencia_dia'",
            "\nThe above exception was the direct cause of the following exception:\n",
            "\u001b[0;31mKeyError\u001b[0m                                  Traceback (most recent call last)",
            "\u001b[0;32m<ipython-input-15-272e44085a08>\u001b[0m in \u001b[0;36m<cell line: 2>\u001b[0;34m()\u001b[0m\n\u001b[1;32m      1\u001b[0m \u001b[0mnew_column\u001b[0m \u001b[0;34m=\u001b[0m \u001b[0;34m[\u001b[0m\u001b[0;34m]\u001b[0m\u001b[0;34m\u001b[0m\u001b[0;34m\u001b[0m\u001b[0m\n\u001b[0;32m----> 2\u001b[0;31m \u001b[0;32mfor\u001b[0m \u001b[0mdia\u001b[0m\u001b[0;34m,\u001b[0m \u001b[0mhora\u001b[0m \u001b[0;32min\u001b[0m \u001b[0mzip\u001b[0m\u001b[0;34m(\u001b[0m\u001b[0mdf\u001b[0m\u001b[0;34m[\u001b[0m\u001b[0;34m'ocorrencia_dia'\u001b[0m\u001b[0;34m]\u001b[0m\u001b[0;34m.\u001b[0m\u001b[0mastype\u001b[0m\u001b[0;34m(\u001b[0m\u001b[0mstr\u001b[0m\u001b[0;34m)\u001b[0m\u001b[0;34m,\u001b[0m \u001b[0mdf\u001b[0m\u001b[0;34m[\u001b[0m\u001b[0;34m'ocorrencia_hora'\u001b[0m\u001b[0;34m]\u001b[0m\u001b[0;34m.\u001b[0m\u001b[0mastype\u001b[0m\u001b[0;34m(\u001b[0m\u001b[0mstr\u001b[0m\u001b[0;34m)\u001b[0m\u001b[0;34m)\u001b[0m\u001b[0;34m:\u001b[0m\u001b[0;34m\u001b[0m\u001b[0;34m\u001b[0m\u001b[0m\n\u001b[0m\u001b[1;32m      3\u001b[0m     \u001b[0mdia\u001b[0m \u001b[0;34m=\u001b[0m \u001b[0mdia\u001b[0m\u001b[0;34m.\u001b[0m\u001b[0msplit\u001b[0m\u001b[0;34m(\u001b[0m\u001b[0;34m' '\u001b[0m\u001b[0;34m)\u001b[0m\u001b[0;34m[\u001b[0m\u001b[0;36m0\u001b[0m\u001b[0;34m]\u001b[0m\u001b[0;34m\u001b[0m\u001b[0;34m\u001b[0m\u001b[0m\n\u001b[1;32m      4\u001b[0m     \u001b[0mhora\u001b[0m \u001b[0;34m=\u001b[0m \u001b[0mhora\u001b[0m\u001b[0;34m.\u001b[0m\u001b[0msplit\u001b[0m\u001b[0;34m(\u001b[0m\u001b[0;34m' '\u001b[0m\u001b[0;34m)\u001b[0m\u001b[0;34m[\u001b[0m\u001b[0;36m0\u001b[0m\u001b[0;34m]\u001b[0m\u001b[0;34m\u001b[0m\u001b[0;34m\u001b[0m\u001b[0m\n\u001b[1;32m      5\u001b[0m     \u001b[0mnew_column\u001b[0m\u001b[0;34m.\u001b[0m\u001b[0mappend\u001b[0m\u001b[0;34m(\u001b[0m\u001b[0mdia\u001b[0m \u001b[0;34m+\u001b[0m \u001b[0;34m' '\u001b[0m \u001b[0;34m+\u001b[0m \u001b[0mhora\u001b[0m\u001b[0;34m)\u001b[0m\u001b[0;34m\u001b[0m\u001b[0;34m\u001b[0m\u001b[0m\n",
            "\u001b[0;32m/usr/local/lib/python3.10/dist-packages/pandas/core/frame.py\u001b[0m in \u001b[0;36m__getitem__\u001b[0;34m(self, key)\u001b[0m\n\u001b[1;32m   3759\u001b[0m             \u001b[0;32mif\u001b[0m \u001b[0mself\u001b[0m\u001b[0;34m.\u001b[0m\u001b[0mcolumns\u001b[0m\u001b[0;34m.\u001b[0m\u001b[0mnlevels\u001b[0m \u001b[0;34m>\u001b[0m \u001b[0;36m1\u001b[0m\u001b[0;34m:\u001b[0m\u001b[0;34m\u001b[0m\u001b[0;34m\u001b[0m\u001b[0m\n\u001b[1;32m   3760\u001b[0m                 \u001b[0;32mreturn\u001b[0m \u001b[0mself\u001b[0m\u001b[0;34m.\u001b[0m\u001b[0m_getitem_multilevel\u001b[0m\u001b[0;34m(\u001b[0m\u001b[0mkey\u001b[0m\u001b[0;34m)\u001b[0m\u001b[0;34m\u001b[0m\u001b[0;34m\u001b[0m\u001b[0m\n\u001b[0;32m-> 3761\u001b[0;31m             \u001b[0mindexer\u001b[0m \u001b[0;34m=\u001b[0m \u001b[0mself\u001b[0m\u001b[0;34m.\u001b[0m\u001b[0mcolumns\u001b[0m\u001b[0;34m.\u001b[0m\u001b[0mget_loc\u001b[0m\u001b[0;34m(\u001b[0m\u001b[0mkey\u001b[0m\u001b[0;34m)\u001b[0m\u001b[0;34m\u001b[0m\u001b[0;34m\u001b[0m\u001b[0m\n\u001b[0m\u001b[1;32m   3762\u001b[0m             \u001b[0;32mif\u001b[0m \u001b[0mis_integer\u001b[0m\u001b[0;34m(\u001b[0m\u001b[0mindexer\u001b[0m\u001b[0;34m)\u001b[0m\u001b[0;34m:\u001b[0m\u001b[0;34m\u001b[0m\u001b[0;34m\u001b[0m\u001b[0m\n\u001b[1;32m   3763\u001b[0m                 \u001b[0mindexer\u001b[0m \u001b[0;34m=\u001b[0m \u001b[0;34m[\u001b[0m\u001b[0mindexer\u001b[0m\u001b[0;34m]\u001b[0m\u001b[0;34m\u001b[0m\u001b[0;34m\u001b[0m\u001b[0m\n",
            "\u001b[0;32m/usr/local/lib/python3.10/dist-packages/pandas/core/indexes/base.py\u001b[0m in \u001b[0;36mget_loc\u001b[0;34m(self, key)\u001b[0m\n\u001b[1;32m   3653\u001b[0m             \u001b[0;32mreturn\u001b[0m \u001b[0mself\u001b[0m\u001b[0;34m.\u001b[0m\u001b[0m_engine\u001b[0m\u001b[0;34m.\u001b[0m\u001b[0mget_loc\u001b[0m\u001b[0;34m(\u001b[0m\u001b[0mcasted_key\u001b[0m\u001b[0;34m)\u001b[0m\u001b[0;34m\u001b[0m\u001b[0;34m\u001b[0m\u001b[0m\n\u001b[1;32m   3654\u001b[0m         \u001b[0;32mexcept\u001b[0m \u001b[0mKeyError\u001b[0m \u001b[0;32mas\u001b[0m \u001b[0merr\u001b[0m\u001b[0;34m:\u001b[0m\u001b[0;34m\u001b[0m\u001b[0;34m\u001b[0m\u001b[0m\n\u001b[0;32m-> 3655\u001b[0;31m             \u001b[0;32mraise\u001b[0m \u001b[0mKeyError\u001b[0m\u001b[0;34m(\u001b[0m\u001b[0mkey\u001b[0m\u001b[0;34m)\u001b[0m \u001b[0;32mfrom\u001b[0m \u001b[0merr\u001b[0m\u001b[0;34m\u001b[0m\u001b[0;34m\u001b[0m\u001b[0m\n\u001b[0m\u001b[1;32m   3656\u001b[0m         \u001b[0;32mexcept\u001b[0m \u001b[0mTypeError\u001b[0m\u001b[0;34m:\u001b[0m\u001b[0;34m\u001b[0m\u001b[0;34m\u001b[0m\u001b[0m\n\u001b[1;32m   3657\u001b[0m             \u001b[0;31m# If we have a listlike key, _check_indexing_error will raise\u001b[0m\u001b[0;34m\u001b[0m\u001b[0;34m\u001b[0m\u001b[0m\n",
            "\u001b[0;31mKeyError\u001b[0m: 'ocorrencia_dia'"
          ]
        }
      ],
      "source": [
        "new_column = []\n",
        "for dia, hora in zip(df['ocorrencia_dia'].astype(str), df['ocorrencia_hora'].astype(str)):\n",
        "    dia = dia.split(' ')[0]\n",
        "    hora = hora.split(' ')[0]\n",
        "    new_column.append(dia + ' ' + hora)\n",
        "\n",
        "df['ocorrencia_datahora'] = pd.to_datetime(new_column)\n",
        "print(df['ocorrencia_datahora'])\n",
        "\n",
        "del df['ocorrencia_hora']\n",
        "del df['ocorrencia_dia']\n",
        "del df['divulgacao_dia_publicacao']\n",
        "del df['recomendacao_dia_assinatura']\n",
        "del df['recomendacao_dia_encaminhamento']\n",
        "del df['recomendacao_dia_feedback']\n",
        "\n"
      ]
    },
    {
      "cell_type": "code",
      "execution_count": null,
      "metadata": {
        "id": "IiszQrOKEgQr",
        "outputId": "4e4212af-3286-4b92-ad56-df5007d09d25",
        "colab": {
          "base_uri": "https://localhost:8080/"
        }
      },
      "outputs": [
        {
          "output_type": "stream",
          "name": "stdout",
          "text": [
            "(562, 48)\n",
            "<class 'pandas.core.series.Series'>\n",
            "Index: 562 entries, 0 to 7565\n",
            "Series name: aeronave_ano_fabricacao\n",
            "Non-Null Count  Dtype  \n",
            "--------------  -----  \n",
            "554 non-null    float64\n",
            "dtypes: float64(1)\n",
            "memory usage: 24.9 KB\n",
            "None\n",
            "0       19800.0\n",
            "1       19800.0\n",
            "9       20020.0\n",
            "23      19930.0\n",
            "33      20130.0\n",
            "         ...   \n",
            "7543    20110.0\n",
            "7551    20110.0\n",
            "7557    19800.0\n",
            "7559    20120.0\n",
            "7565    20080.0\n",
            "Name: aeronave_ano_fabricacao, Length: 562, dtype: float64\n"
          ]
        },
        {
          "output_type": "stream",
          "name": "stderr",
          "text": [
            "<ipython-input-16-3422940ee074>:16: SettingWithCopyWarning: \n",
            "A value is trying to be set on a copy of a slice from a DataFrame.\n",
            "Try using .loc[row_indexer,col_indexer] = value instead\n",
            "\n",
            "See the caveats in the documentation: https://pandas.pydata.org/pandas-docs/stable/user_guide/indexing.html#returning-a-view-versus-a-copy\n",
            "  df['aeronave_ano_fabricacao'] =  coluna.apply(isCorrect)\n"
          ]
        }
      ],
      "source": [
        "print(df.shape)\n",
        "\n",
        "print(df['aeronave_ano_fabricacao'].info())\n",
        "print(df['aeronave_ano_fabricacao'])\n",
        "coluna = df['aeronave_ano_fabricacao']\n",
        "df = df.dropna(subset=['aeronave_ano_fabricacao'])\n",
        "\n",
        "#Se o valor que estiver naquela linha da coluna tiver 5 digitos, divide por 10\n",
        "\n",
        "def isCorrect(x):\n",
        "  if(x >= 10000):\n",
        "    return x//10\n",
        "\n",
        "  return x\n",
        "\n",
        "df['aeronave_ano_fabricacao'] =  coluna.apply(isCorrect)\n"
      ]
    },
    {
      "cell_type": "code",
      "source": [
        "print(df.head())\n",
        "print(df.shape)\n",
        "print(df.isnull().sum())"
      ],
      "metadata": {
        "colab": {
          "base_uri": "https://localhost:8080/"
        },
        "id": "yPBtktbTP2du",
        "outputId": "cb5f4d6e-d2c5-4354-c4df-7589c5a232e3"
      },
      "execution_count": null,
      "outputs": [
        {
          "output_type": "stream",
          "name": "stdout",
          "text": [
            "   ocorrencia_classificacao  ocorrencia_latitude  ocorrencia_longitude  \\\n",
            "0           INCIDENTE GRAVE            -9.868333            -67.898056   \n",
            "1                  ACIDENTE           -12.204167            -56.237778   \n",
            "9                  ACIDENTE           -19.198333            -45.011667   \n",
            "23                 ACIDENTE           -29.055278            -55.716111   \n",
            "33                 ACIDENTE           -20.356944            -49.526389   \n",
            "\n",
            "    ocorrencia_cidade ocorrencia_uf ocorrencia_pais ocorrencia_aerodromo  \\\n",
            "0          RIO BRANCO            AC          BRASIL                 SBRB   \n",
            "1   IPIRANGA DO NORTE            MT          BRASIL    Fora de aerodromo   \n",
            "9              POMPÉU            MG          BRASIL                 SNPO   \n",
            "23          MAÇAMBARÁ            RS          BRASIL    Fora de aerodromo   \n",
            "33          PALESTINA            SP          BRASIL    Fora de aerodromo   \n",
            "\n",
            "   investigacao_aeronave_liberada investigacao_status  \\\n",
            "0                             SIM          FINALIZADA   \n",
            "1                             SIM          FINALIZADA   \n",
            "9                             SIM          FINALIZADA   \n",
            "23                            SIM          FINALIZADA   \n",
            "33                            SIM          FINALIZADA   \n",
            "\n",
            "   divulgacao_relatorio_numero  ... aeronave_voo_destino  \\\n",
            "0           IG-047/CENIPA/2022  ...    PLÁCIDO DE CASTRO   \n",
            "1            A-038/CENIPA/2022  ...    FORA DE AERODROMO   \n",
            "9            A-032/CENIPA/2022  ...       TENENTE XAVIER   \n",
            "23           A-014/CENIPA/2022  ...    FORA DE AERODROMO   \n",
            "33           A-012/CENIPA/2022  ...     NÃO IDENTIFICADO   \n",
            "\n",
            "    aeronave_fase_operacao  aeronave_tipo_operacao aeronave_nivel_dano  \\\n",
            "0        APROXIMAÇÃO FINAL              TÁXI AÉREO              NENHUM   \n",
            "1                  MANOBRA                AGRÍCOLA         SUBSTANCIAL   \n",
            "9                DECOLAGEM                AGRÍCOLA         SUBSTANCIAL   \n",
            "23                   POUSO                AGRÍCOLA         SUBSTANCIAL   \n",
            "33      VOO A BAIXA ALTURA                AGRÍCOLA         SUBSTANCIAL   \n",
            "\n",
            "   aeronave_fatalidades_total             fator_nome  \\\n",
            "0                           0   SUPERVISÃO GERENCIAL   \n",
            "1                           0                ATENÇÃO   \n",
            "9                           0  APLICAÇÃO DE COMANDOS   \n",
            "23                          0                ATENÇÃO   \n",
            "33                          0  APLICAÇÃO DE COMANDOS   \n",
            "\n",
            "               fator_aspecto   fator_condicionante         fator_area  \\\n",
            "0   DESEMPENHO DO SER HUMANO  OPERAÇÃO DA AERONAVE  FATOR OPERACIONAL   \n",
            "1        ASPECTO PSICOLÓGICO            INDIVIDUAL       FATOR HUMANO   \n",
            "9   DESEMPENHO DO SER HUMANO  OPERAÇÃO DA AERONAVE  FATOR OPERACIONAL   \n",
            "23       ASPECTO PSICOLÓGICO            INDIVIDUAL       FATOR HUMANO   \n",
            "33  DESEMPENHO DO SER HUMANO  OPERAÇÃO DA AERONAVE  FATOR OPERACIONAL   \n",
            "\n",
            "   ocorrencia_datahora  \n",
            "0  2022-04-14 17:45:00  \n",
            "1  2022-03-24 19:30:00  \n",
            "9  2022-03-13 15:00:00  \n",
            "23 2022-01-29 09:50:00  \n",
            "33 2022-01-22 21:00:00  \n",
            "\n",
            "[5 rows x 48 columns]\n",
            "(554, 48)\n",
            "ocorrencia_classificacao            0\n",
            "ocorrencia_latitude                 0\n",
            "ocorrencia_longitude                0\n",
            "ocorrencia_cidade                   0\n",
            "ocorrencia_uf                       0\n",
            "ocorrencia_pais                     0\n",
            "ocorrencia_aerodromo                0\n",
            "investigacao_aeronave_liberada     96\n",
            "investigacao_status                 0\n",
            "divulgacao_relatorio_numero         1\n",
            "divulgacao_relatorio_publicado      0\n",
            "total_recomendacoes                 0\n",
            "total_aeronaves_envolvidas          0\n",
            "ocorrencia_saida_pista              0\n",
            "ocorrencia_tipo                     1\n",
            "ocorrencia_tipo_categoria           1\n",
            "taxonomia_tipo_icao                 1\n",
            "recomendacao_numero                 0\n",
            "recomendacao_conteudo               0\n",
            "recomendacao_status                 6\n",
            "recomendacao_destinatario_sigla     0\n",
            "recomendacao_destinatario           0\n",
            "aeronave_matricula                  0\n",
            "aeronave_tipo_veiculo               5\n",
            "aeronave_fabricante                14\n",
            "aeronave_modelo                     6\n",
            "aeronave_tipo_icao                 10\n",
            "aeronave_motor_tipo                10\n",
            "aeronave_motor_quantidade           1\n",
            "aeronave_pmd                        0\n",
            "aeronave_pmd_categoria              0\n",
            "aeronave_assentos                   1\n",
            "aeronave_ano_fabricacao             0\n",
            "aeronave_pais_fabricante            0\n",
            "aeronave_pais_registro              0\n",
            "aeronave_registro_categoria         5\n",
            "aeronave_registro_segmento          5\n",
            "aeronave_voo_origem                 0\n",
            "aeronave_voo_destino                0\n",
            "aeronave_fase_operacao              0\n",
            "aeronave_tipo_operacao              4\n",
            "aeronave_nivel_dano                 3\n",
            "aeronave_fatalidades_total          0\n",
            "fator_nome                          0\n",
            "fator_aspecto                       0\n",
            "fator_condicionante                59\n",
            "fator_area                          0\n",
            "ocorrencia_datahora                 0\n",
            "dtype: int64\n"
          ]
        }
      ]
    },
    {
      "cell_type": "markdown",
      "source": [
        "### Remover as colunas irrelevantes para a ánalise"
      ],
      "metadata": {
        "id": "f2l6Y_FdRndP"
      }
    },
    {
      "cell_type": "code",
      "source": [
        "del df['aeronave_matricula']\n",
        "del df['recomendacao_status']\n",
        "del df['recomendacao_numero']\n",
        "del df['recomendacao_conteudo']\n",
        "del df['divulgacao_relatorio_numero']\n"
      ],
      "metadata": {
        "id": "BnNY1NzfRm9O"
      },
      "execution_count": null,
      "outputs": []
    },
    {
      "cell_type": "code",
      "source": [
        "print(df.shape)"
      ],
      "metadata": {
        "colab": {
          "base_uri": "https://localhost:8080/"
        },
        "id": "1nfmbPKMVRyb",
        "outputId": "24a748e4-de26-4878-ccae-ece2ab226454"
      },
      "execution_count": null,
      "outputs": [
        {
          "output_type": "stream",
          "name": "stdout",
          "text": [
            "(554, 43)\n"
          ]
        }
      ]
    },
    {
      "cell_type": "markdown",
      "source": [],
      "metadata": {
        "id": "ugjsvq4iK5bT"
      }
    }
  ],
  "metadata": {
    "kernelspec": {
      "display_name": "Python 3",
      "language": "python",
      "name": "python3"
    },
    "language_info": {
      "codemirror_mode": {
        "name": "ipython",
        "version": 3
      },
      "file_extension": ".py",
      "mimetype": "text/x-python",
      "name": "python",
      "nbconvert_exporter": "python",
      "pygments_lexer": "ipython3",
      "version": "3.11.9"
    },
    "colab": {
      "provenance": [],
      "include_colab_link": true
    }
  },
  "nbformat": 4,
  "nbformat_minor": 0
}