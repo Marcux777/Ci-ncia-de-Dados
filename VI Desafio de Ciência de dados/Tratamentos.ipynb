{
  "cells": [
    {
      "cell_type": "markdown",
      "metadata": {
        "id": "view-in-github",
        "colab_type": "text"
      },
      "source": [
        "<a href=\"https://colab.research.google.com/github/Marcux777/Ci-ncia-de-Dados/blob/main/VI%20Desafio%20de%20Ci%C3%AAncia%20de%20dados/Tratamentos.ipynb\" target=\"_parent\"><img src=\"https://colab.research.google.com/assets/colab-badge.svg\" alt=\"Open In Colab\"/></a>"
      ]
    },
    {
      "cell_type": "code",
      "source": [
        "from google.colab import drive\n",
        "from google.colab import files\n",
        "drive.mount('/content/drive')\n"
      ],
      "metadata": {
        "colab": {
          "base_uri": "https://localhost:8080/"
        },
        "id": "eYt-dHreEhPp",
        "outputId": "c75db359-c52c-4107-df26-54758dd3eccc"
      },
      "execution_count": null,
      "outputs": [
        {
          "output_type": "stream",
          "name": "stdout",
          "text": [
            "Drive already mounted at /content/drive; to attempt to forcibly remount, call drive.mount(\"/content/drive\", force_remount=True).\n"
          ]
        }
      ]
    },
    {
      "cell_type": "code",
      "source": [
        "!pip install googlemaps"
      ],
      "metadata": {
        "colab": {
          "base_uri": "https://localhost:8080/"
        },
        "id": "HFwgK15nFkPW",
        "outputId": "8c6a701a-e82d-4c85-eaff-40b4d952f444"
      },
      "execution_count": null,
      "outputs": [
        {
          "output_type": "stream",
          "name": "stdout",
          "text": [
            "Collecting googlemaps\n",
            "  Downloading googlemaps-4.10.0.tar.gz (33 kB)\n",
            "  Preparing metadata (setup.py) ... \u001b[?25l\u001b[?25hdone\n",
            "Requirement already satisfied: requests<3.0,>=2.20.0 in /usr/local/lib/python3.10/dist-packages (from googlemaps) (2.31.0)\n",
            "Requirement already satisfied: charset-normalizer<4,>=2 in /usr/local/lib/python3.10/dist-packages (from requests<3.0,>=2.20.0->googlemaps) (3.3.2)\n",
            "Requirement already satisfied: idna<4,>=2.5 in /usr/local/lib/python3.10/dist-packages (from requests<3.0,>=2.20.0->googlemaps) (3.7)\n",
            "Requirement already satisfied: urllib3<3,>=1.21.1 in /usr/local/lib/python3.10/dist-packages (from requests<3.0,>=2.20.0->googlemaps) (2.0.7)\n",
            "Requirement already satisfied: certifi>=2017.4.17 in /usr/local/lib/python3.10/dist-packages (from requests<3.0,>=2.20.0->googlemaps) (2024.2.2)\n",
            "Building wheels for collected packages: googlemaps\n",
            "  Building wheel for googlemaps (setup.py) ... \u001b[?25l\u001b[?25hdone\n",
            "  Created wheel for googlemaps: filename=googlemaps-4.10.0-py3-none-any.whl size=40712 sha256=dd3f0de969b6648254155014dc029ea7710e06b687f4b9e201aef5232c6e3152\n",
            "  Stored in directory: /root/.cache/pip/wheels/17/f8/79/999d5d37118fd35d7219ef57933eb9d09886c4c4503a800f84\n",
            "Successfully built googlemaps\n",
            "Installing collected packages: googlemaps\n",
            "Successfully installed googlemaps-4.10.0\n"
          ]
        }
      ]
    },
    {
      "cell_type": "markdown",
      "metadata": {
        "id": "9pDiVRoXEgQh"
      },
      "source": [
        "Importando as bibliotecas que usaremos"
      ]
    },
    {
      "cell_type": "code",
      "execution_count": null,
      "metadata": {
        "id": "XmV_6z5EEgQj"
      },
      "outputs": [],
      "source": [
        "import pandas as pd\n",
        "import math\n",
        "import numpy as np\n",
        "import googlemaps as maps\n",
        "import plotly.express as px\n",
        "import geopandas as gpd\n",
        "import folium\n",
        "from folium import Circle, Marker\n",
        "from folium.plugins import HeatMap, MarkerCluster"
      ]
    },
    {
      "cell_type": "markdown",
      "metadata": {
        "id": "0ZFCf4JVEgQl"
      },
      "source": [
        "Abrindo o arquivo excel:"
      ]
    },
    {
      "cell_type": "code",
      "execution_count": null,
      "metadata": {
        "colab": {
          "base_uri": "https://localhost:8080/"
        },
        "id": "5A_l9YKaEgQl",
        "outputId": "38d137a0-6f59-4974-8c24-dab83a8e5c9b"
      },
      "outputs": [
        {
          "output_type": "stream",
          "name": "stdout",
          "text": [
            "  ocorrencia_classificacao  ocorrencia_latitude  ocorrencia_longitude  \\\n",
            "0          INCIDENTE GRAVE        -9.868333e+12         -6.789806e+12   \n",
            "1                 ACIDENTE        -1.220417e+12         -5.623778e+12   \n",
            "2                 ACIDENTE        -1.220417e+12         -5.623778e+12   \n",
            "3                 ACIDENTE        -1.220417e+12         -5.623778e+12   \n",
            "4                 ACIDENTE        -1.220417e+12         -5.623778e+12   \n",
            "\n",
            "   ocorrencia_cidade ocorrencia_uf ocorrencia_pais ocorrencia_aerodromo  \\\n",
            "0         RIO BRANCO            AC          BRASIL                 SBRB   \n",
            "1  IPIRANGA DO NORTE            MT          BRASIL    Fora de aerodromo   \n",
            "2  IPIRANGA DO NORTE            MT          BRASIL    Fora de aerodromo   \n",
            "3  IPIRANGA DO NORTE            MT          BRASIL    Fora de aerodromo   \n",
            "4  IPIRANGA DO NORTE            MT          BRASIL    Fora de aerodromo   \n",
            "\n",
            "  ocorrencia_dia ocorrencia_hora investigacao_aeronave_liberada  ...  \\\n",
            "0     2022-04-14        17:45:00                            SIM  ...   \n",
            "1     2022-03-24        19:30:00                            SIM  ...   \n",
            "2     2022-03-24        19:30:00                            SIM  ...   \n",
            "3     2022-03-24        19:30:00                            SIM  ...   \n",
            "4     2022-03-24        19:30:00                            SIM  ...   \n",
            "\n",
            "   aeronave_voo_origem aeronave_voo_destino aeronave_fase_operacao  \\\n",
            "0  SANTA ROSA DO PURUS    PLÁCIDO DE CASTRO      APROXIMAÇÃO FINAL   \n",
            "1    FORA DE AERODROMO    FORA DE AERODROMO                MANOBRA   \n",
            "2    FORA DE AERODROMO    FORA DE AERODROMO                MANOBRA   \n",
            "3    FORA DE AERODROMO    FORA DE AERODROMO                MANOBRA   \n",
            "4    FORA DE AERODROMO    FORA DE AERODROMO                MANOBRA   \n",
            "\n",
            "  aeronave_tipo_operacao  aeronave_nivel_dano  aeronave_fatalidades_total  \\\n",
            "0             TÁXI AÉREO               NENHUM                           0   \n",
            "1               AGRÍCOLA          SUBSTANCIAL                           0   \n",
            "2               AGRÍCOLA          SUBSTANCIAL                           0   \n",
            "3               AGRÍCOLA          SUBSTANCIAL                           0   \n",
            "4               AGRÍCOLA          SUBSTANCIAL                           0   \n",
            "\n",
            "                fator_nome             fator_aspecto   fator_condicionante  \\\n",
            "0     SUPERVISÃO GERENCIAL  DESEMPENHO DO SER HUMANO  OPERAÇÃO DA AERONAVE   \n",
            "1                  ATENÇÃO       ASPECTO PSICOLÓGICO            INDIVIDUAL   \n",
            "2                  ATITUDE       ASPECTO PSICOLÓGICO            INDIVIDUAL   \n",
            "3  JULGAMENTO DE PILOTAGEM  DESEMPENHO DO SER HUMANO  OPERAÇÃO DA AERONAVE   \n",
            "4                PERCEPÇÃO       ASPECTO PSICOLÓGICO            INDIVIDUAL   \n",
            "\n",
            "          fator_area  \n",
            "0  FATOR OPERACIONAL  \n",
            "1       FATOR HUMANO  \n",
            "2       FATOR HUMANO  \n",
            "3  FATOR OPERACIONAL  \n",
            "4       FATOR HUMANO  \n",
            "\n",
            "[5 rows x 53 columns]\n"
          ]
        }
      ],
      "source": [
        "df = pd.read_excel('/content/drive/My Drive/Ciencia de dados/acidentesTransito_cenipa_2010a2021.xlsx', engine='openpyxl')\n",
        "print(df.head())\n"
      ]
    },
    {
      "cell_type": "markdown",
      "metadata": {
        "id": "1PzDJLQdEgQn"
      },
      "source": [
        "Tratamento dos dados dentro do data frame:"
      ]
    },
    {
      "cell_type": "code",
      "execution_count": null,
      "metadata": {
        "id": "DUS1fmqyEgQn",
        "outputId": "efe39cb0-d585-4335-b821-293dc0c3cb1b",
        "colab": {
          "base_uri": "https://localhost:8080/"
        }
      },
      "outputs": [
        {
          "output_type": "stream",
          "name": "stdout",
          "text": [
            "ocorrencia_classificacao              0\n",
            "ocorrencia_latitude                 678\n",
            "ocorrencia_longitude                670\n",
            "ocorrencia_cidade                     0\n",
            "ocorrencia_uf                         0\n",
            "ocorrencia_pais                       0\n",
            "ocorrencia_aerodromo                  0\n",
            "ocorrencia_dia                        0\n",
            "ocorrencia_hora                       0\n",
            "investigacao_aeronave_liberada     1648\n",
            "investigacao_status                   0\n",
            "divulgacao_relatorio_numero          39\n",
            "divulgacao_relatorio_publicado        0\n",
            "divulgacao_dia_publicacao             0\n",
            "total_recomendacoes                   0\n",
            "total_aeronaves_envolvidas            0\n",
            "ocorrencia_saida_pista                0\n",
            "ocorrencia_tipo                       4\n",
            "ocorrencia_tipo_categoria             4\n",
            "taxonomia_tipo_icao                   4\n",
            "recomendacao_numero                   0\n",
            "recomendacao_dia_assinatura           0\n",
            "recomendacao_dia_encaminhamento       0\n",
            "recomendacao_dia_feedback          1137\n",
            "recomendacao_conteudo                 0\n",
            "recomendacao_status                 106\n",
            "recomendacao_destinatario_sigla       0\n",
            "recomendacao_destinatario             0\n",
            "aeronave_matricula                    0\n",
            "aeronave_tipo_veiculo                44\n",
            "aeronave_fabricante                 107\n",
            "aeronave_modelo                      75\n",
            "aeronave_tipo_icao                   94\n",
            "aeronave_motor_tipo                  94\n",
            "aeronave_motor_quantidade            21\n",
            "aeronave_pmd                          0\n",
            "aeronave_pmd_categoria                0\n",
            "aeronave_assentos                    50\n",
            "aeronave_ano_fabricacao              47\n",
            "aeronave_pais_fabricante              0\n",
            "aeronave_pais_registro                0\n",
            "aeronave_registro_categoria          44\n",
            "aeronave_registro_segmento          183\n",
            "aeronave_voo_origem                   0\n",
            "aeronave_voo_destino                  0\n",
            "aeronave_fase_operacao                0\n",
            "aeronave_tipo_operacao               76\n",
            "aeronave_nivel_dano                  12\n",
            "aeronave_fatalidades_total            0\n",
            "fator_nome                            0\n",
            "fator_aspecto                         0\n",
            "fator_condicionante                 802\n",
            "fator_area                            0\n",
            "dtype: int64\n"
          ]
        }
      ],
      "source": [
        "## Buscando e removendo dados duplicados, caso haja\n",
        "df.drop_duplicates()\n",
        "\n",
        "# verificando quantas coordenas nulas eu tenho\n",
        "print(df.isnull().sum())"
      ]
    },
    {
      "cell_type": "markdown",
      "metadata": {
        "id": "Qe7DSuwFEgQo"
      },
      "source": [
        "Remover onde a latitude ou longitude são nulas, não quero elas\n"
      ]
    },
    {
      "cell_type": "code",
      "execution_count": null,
      "metadata": {
        "id": "m05w2tFNEgQo",
        "outputId": "b2f7ea2c-fa58-4517-b995-206a9c1c05e7",
        "colab": {
          "base_uri": "https://localhost:8080/"
        }
      },
      "outputs": [
        {
          "output_type": "stream",
          "name": "stdout",
          "text": [
            "ocorrencia_classificacao              0\n",
            "ocorrencia_latitude                   0\n",
            "ocorrencia_longitude                  0\n",
            "ocorrencia_cidade                     0\n",
            "ocorrencia_uf                         0\n",
            "ocorrencia_pais                       0\n",
            "ocorrencia_aerodromo                  0\n",
            "ocorrencia_dia                        0\n",
            "ocorrencia_hora                       0\n",
            "investigacao_aeronave_liberada     1546\n",
            "investigacao_status                   0\n",
            "divulgacao_relatorio_numero          10\n",
            "divulgacao_relatorio_publicado        0\n",
            "divulgacao_dia_publicacao             0\n",
            "total_recomendacoes                   0\n",
            "total_aeronaves_envolvidas            0\n",
            "ocorrencia_saida_pista                0\n",
            "ocorrencia_tipo                       4\n",
            "ocorrencia_tipo_categoria             4\n",
            "taxonomia_tipo_icao                   4\n",
            "recomendacao_numero                   0\n",
            "recomendacao_dia_assinatura           0\n",
            "recomendacao_dia_encaminhamento       0\n",
            "recomendacao_dia_feedback          1106\n",
            "recomendacao_conteudo                 0\n",
            "recomendacao_status                 106\n",
            "recomendacao_destinatario_sigla       0\n",
            "recomendacao_destinatario             0\n",
            "aeronave_matricula                    0\n",
            "aeronave_tipo_veiculo                44\n",
            "aeronave_fabricante                  97\n",
            "aeronave_modelo                      75\n",
            "aeronave_tipo_icao                   91\n",
            "aeronave_motor_tipo                  94\n",
            "aeronave_motor_quantidade            21\n",
            "aeronave_pmd                          0\n",
            "aeronave_pmd_categoria                0\n",
            "aeronave_assentos                    50\n",
            "aeronave_ano_fabricacao              47\n",
            "aeronave_pais_fabricante              0\n",
            "aeronave_pais_registro                0\n",
            "aeronave_registro_categoria          44\n",
            "aeronave_registro_segmento          183\n",
            "aeronave_voo_origem                   0\n",
            "aeronave_voo_destino                  0\n",
            "aeronave_fase_operacao                0\n",
            "aeronave_tipo_operacao               76\n",
            "aeronave_nivel_dano                  12\n",
            "aeronave_fatalidades_total            0\n",
            "fator_nome                            0\n",
            "fator_aspecto                         0\n",
            "fator_condicionante                 744\n",
            "fator_area                            0\n",
            "dtype: int64\n"
          ]
        }
      ],
      "source": [
        "df.dropna(subset=['ocorrencia_latitude'], inplace=True)\n",
        "df.dropna(subset=['ocorrencia_longitude'], inplace=True)\n",
        "print(df.isnull().sum())"
      ]
    },
    {
      "cell_type": "markdown",
      "metadata": {
        "id": "zbVjD8pNEgQo"
      },
      "source": [
        "Passar para numerico, caso haja algum valor que não esteja numerico"
      ]
    },
    {
      "cell_type": "code",
      "execution_count": null,
      "metadata": {
        "id": "EfcmBKXrEgQo"
      },
      "outputs": [],
      "source": [
        "df['ocorrencia_latitude'] = pd.to_numeric(df['ocorrencia_latitude'])\n",
        "df['ocorrencia_longitude'] = pd.to_numeric(df['ocorrencia_longitude'])\n"
      ]
    },
    {
      "cell_type": "markdown",
      "metadata": {
        "id": "SgORzwe9EgQp"
      },
      "source": [
        "Formatar as coordenadas"
      ]
    },
    {
      "cell_type": "code",
      "execution_count": null,
      "metadata": {
        "id": "prwRkK17EgQp"
      },
      "outputs": [],
      "source": [
        "estados_brasileiros = {\n",
        "    \"AC\": (-9.115833, -67.784167),\n",
        "    \"AL\": (-9.616667, -35.733333),\n",
        "    \"AP\": (1.45, -51.75),\n",
        "    \"AM\": (-3.100833, -60.025),\n",
        "    \"BA\": (-12.971111, -38.477778),\n",
        "    \"CE\": (-3.716667, -38.541667),\n",
        "    \"DF\": (-15.794444, -47.882222),\n",
        "    \"ES\": (-19.926111, -40.302778),\n",
        "    \"GO\": (-15.981667, -49.253056),\n",
        "    \"MA\": (-2.533333, -44.25),\n",
        "    \"MT\": (-12.65, -55.45),\n",
        "    \"MS\": (-20.448611, -54.627222),\n",
        "    \"MG\": (-19.926111, -43.937222),\n",
        "    \"PA\": (-1.458056, -48.483333),\n",
        "    \"PB\": (-7.109444, -35.874444),\n",
        "    \"PR\": (-25.428889, -51.521111),\n",
        "    \"PE\": (-8.058333, -34.879167),\n",
        "    \"PI\": (-7.216667, -41.766667),\n",
        "    \"RJ\": (-22.908333, -43.196111),\n",
        "    \"RN\": (-5.808889, -35.201111),\n",
        "    \"RS\": (-30.033333, -51.216667),\n",
        "    \"RO\": (-10.748889, -62.658056),\n",
        "    \"RR\": (2.816667, -60.675),\n",
        "    \"SC\": (-27.594444, -48.541667),\n",
        "    \"SP\": (-23.550556, -46.633333),\n",
        "    \"SE\": (-10.916667, -37.066667),\n",
        "    \"TO\": (-10.183333, -48.325)\n",
        "}\n"
      ]
    },
    {
      "cell_type": "markdown",
      "metadata": {
        "id": "JCNYRS06EgQp"
      },
      "source": [
        "Atualizando a coluna da longitude, com os valores formadados."
      ]
    },
    {
      "cell_type": "code",
      "execution_count": null,
      "metadata": {
        "id": "vG_patsaEgQp"
      },
      "outputs": [],
      "source": [
        "for index, row in df['ocorrencia_longitude'].items():\n",
        "\n",
        "    if not np.isnan(row):\n",
        "        log_base_10 = np.log10(abs(row))\n",
        "        divisor = math.ceil(log_base_10) - 2\n",
        "        if divisor != 0:\n",
        "            df.loc[index, 'ocorrencia_longitude'] = row / (10**divisor)\n",
        "        #print(index, row, df.loc[index, 'ocorrencia_longitude'])\n",
        "\n"
      ]
    },
    {
      "cell_type": "markdown",
      "metadata": {
        "id": "6G0QMo_qEgQq"
      },
      "source": [
        "Atualizando a coluna da latitude, com os valores formatados."
      ]
    },
    {
      "cell_type": "code",
      "execution_count": null,
      "metadata": {
        "id": "8ssU8mbXEgQq",
        "outputId": "3328aa1d-668d-4230-e3cc-3513919f028e",
        "colab": {
          "base_uri": "https://localhost:8080/"
        }
      },
      "outputs": [
        {
          "output_type": "stream",
          "name": "stdout",
          "text": [
            "     ocorrencia_classificacao  ocorrencia_latitude  ocorrencia_longitude  \\\n",
            "4151                 ACIDENTE           -33.384722            -53.254444   \n",
            "4152                 ACIDENTE           -33.384722            -53.254444   \n",
            "4153                 ACIDENTE           -33.384722            -53.254444   \n",
            "423                  ACIDENTE           -33.176944            -53.014167   \n",
            "412                  ACIDENTE           -33.176944            -53.014167   \n",
            "...                       ...                  ...                   ...   \n",
            "4471                 ACIDENTE             5.084167            -60.345556   \n",
            "4469                 ACIDENTE             5.084167            -60.345556   \n",
            "4478                 ACIDENTE             5.084167            -60.345556   \n",
            "4480                 ACIDENTE             5.084167            -60.345556   \n",
            "5009          INCIDENTE GRAVE             8.713611             63.902778   \n",
            "\n",
            "            ocorrencia_cidade ocorrencia_uf ocorrencia_pais  \\\n",
            "4151  SANTA VITÓRIA DO PALMAR            RS          BRASIL   \n",
            "4152  SANTA VITÓRIA DO PALMAR            RS          BRASIL   \n",
            "4153  SANTA VITÓRIA DO PALMAR            RS          BRASIL   \n",
            "423   SANTA VITÓRIA DO PALMAR            RS          BRASIL   \n",
            "412   SANTA VITÓRIA DO PALMAR            RS          BRASIL   \n",
            "...                       ...           ...             ...   \n",
            "4471                 UIRAMUTÃ            RR          BRASIL   \n",
            "4469                 UIRAMUTÃ            RR          BRASIL   \n",
            "4478                 UIRAMUTÃ            RR          BRASIL   \n",
            "4480                 UIRAMUTÃ            RR          BRASIL   \n",
            "5009              PORTO VELHO            RO          BRASIL   \n",
            "\n",
            "     ocorrencia_aerodromo ocorrencia_dia ocorrencia_hora  \\\n",
            "4151    Fora de aerodromo     2016-12-15        18:40:00   \n",
            "4152    Fora de aerodromo     2016-12-15        18:40:00   \n",
            "4153    Fora de aerodromo     2016-12-15        18:40:00   \n",
            "423     Fora de aerodromo     2020-12-06        13:15:00   \n",
            "412     Fora de aerodromo     2020-12-06        13:15:00   \n",
            "...                   ...            ...             ...   \n",
            "4471                 SJLO     2016-04-09        19:30:00   \n",
            "4469                 SJLO     2016-04-09        19:30:00   \n",
            "4478                 SJLO     2016-04-09        19:30:00   \n",
            "4480                 SJLO     2016-04-09        19:30:00   \n",
            "5009                 SBPV     2015-10-23        20:00:00   \n",
            "\n",
            "     investigacao_aeronave_liberada  ... aeronave_voo_origem  \\\n",
            "4151                            SIM  ...   FORA DE AERODROMO   \n",
            "4152                            SIM  ...   FORA DE AERODROMO   \n",
            "4153                            SIM  ...   FORA DE AERODROMO   \n",
            "423                             SIM  ...   PISTA PLÁ E SILVA   \n",
            "412                             SIM  ...   PISTA PLÁ E SILVA   \n",
            "...                             ...  ...                 ...   \n",
            "4471                            SIM  ...      POUSO DA ÁGUIA   \n",
            "4469                            SIM  ...      POUSO DA ÁGUIA   \n",
            "4478                            SIM  ...      POUSO DA ÁGUIA   \n",
            "4480                            SIM  ...      POUSO DA ÁGUIA   \n",
            "5009                            SIM  ...           ARIQUEMES   \n",
            "\n",
            "                       aeronave_voo_destino aeronave_fase_operacao  \\\n",
            "4151                      FORA DE AERODROMO          ESPECIALIZADA   \n",
            "4152                      FORA DE AERODROMO          ESPECIALIZADA   \n",
            "4153                      FORA DE AERODROMO          ESPECIALIZADA   \n",
            "423                       PISTA PLÁ E SILVA                MANOBRA   \n",
            "412                       PISTA PLÁ E SILVA                MANOBRA   \n",
            "...                                     ...                    ...   \n",
            "4471                                MANALAI    CIRCUITO DE TRÁFEGO   \n",
            "4469                                MANALAI    CIRCUITO DE TRÁFEGO   \n",
            "4478                                MANALAI    CIRCUITO DE TRÁFEGO   \n",
            "4480                                MANALAI    CIRCUITO DE TRÁFEGO   \n",
            "5009  GOVERNADOR JORGE TEIXEIRA DE OLIVEIRA     CORRIDA APÓS POUSO   \n",
            "\n",
            "     aeronave_tipo_operacao  aeronave_nivel_dano  aeronave_fatalidades_total  \\\n",
            "4151               AGRÍCOLA          SUBSTANCIAL                           0   \n",
            "4152               AGRÍCOLA          SUBSTANCIAL                           0   \n",
            "4153               AGRÍCOLA          SUBSTANCIAL                           0   \n",
            "423                AGRÍCOLA          SUBSTANCIAL                           0   \n",
            "412                AGRÍCOLA          SUBSTANCIAL                           0   \n",
            "...                     ...                  ...                         ...   \n",
            "4471             TÁXI AÉREO          SUBSTANCIAL                           0   \n",
            "4469             TÁXI AÉREO          SUBSTANCIAL                           0   \n",
            "4478             TÁXI AÉREO          SUBSTANCIAL                           0   \n",
            "4480             TÁXI AÉREO          SUBSTANCIAL                           0   \n",
            "5009                PRIVADA               NENHUM                           0   \n",
            "\n",
            "                        fator_nome                 fator_aspecto  \\\n",
            "4151        MANUTENÇÃO DA AERONAVE      DESEMPENHO DO SER HUMANO   \n",
            "4152        MANUTENÇÃO DA AERONAVE      DESEMPENHO DO SER HUMANO   \n",
            "4153        MANUTENÇÃO DA AERONAVE      DESEMPENHO DO SER HUMANO   \n",
            "423             PROCESSO DECISÓRIO           ASPECTO PSICOLÓGICO   \n",
            "412                        ATENÇÃO           ASPECTO PSICOLÓGICO   \n",
            "...                            ...                           ...   \n",
            "4471                       ATITUDE           ASPECTO PSICOLÓGICO   \n",
            "4469         APLICAÇÃO DE COMANDOS      DESEMPENHO DO SER HUMANO   \n",
            "4478           INDISCIPLINA DE VOO      DESEMPENHO DO SER HUMANO   \n",
            "4480           PLANEJAMENTO DE VOO      DESEMPENHO DO SER HUMANO   \n",
            "5009  INFRAESTRUTURA AEROPORTUÁRIA  INFRAESTRUTURA AEROPORTUÁRIA   \n",
            "\n",
            "         fator_condicionante         fator_area  \n",
            "4151  MANUTENÇÃO DA AERONAVE  FATOR OPERACIONAL  \n",
            "4152  MANUTENÇÃO DA AERONAVE  FATOR OPERACIONAL  \n",
            "4153  MANUTENÇÃO DA AERONAVE  FATOR OPERACIONAL  \n",
            "423               INDIVIDUAL       FATOR HUMANO  \n",
            "412               INDIVIDUAL       FATOR HUMANO  \n",
            "...                      ...                ...  \n",
            "4471              INDIVIDUAL       FATOR HUMANO  \n",
            "4469    OPERAÇÃO DA AERONAVE  FATOR OPERACIONAL  \n",
            "4478    OPERAÇÃO DA AERONAVE  FATOR OPERACIONAL  \n",
            "4480    OPERAÇÃO DA AERONAVE  FATOR OPERACIONAL  \n",
            "5009                     NaN  FATOR OPERACIONAL  \n",
            "\n",
            "[6889 rows x 53 columns]\n"
          ]
        }
      ],
      "source": [
        "for index, row in df['ocorrencia_latitude'].items():\n",
        "    if not np.isnan(row):\n",
        "        log_base_10 = np.log10(abs(row))\n",
        "        divisor = math.ceil(log_base_10)\n",
        "        if(row > 0):\n",
        "            divisor -= 1\n",
        "            df.loc[index, 'ocorrencia_latitude'] = row / (10 ** divisor)\n",
        "        else:\n",
        "            estado = df['ocorrencia_uf'].loc[index]  # Converte a Series em uma string\n",
        "\n",
        "            divisor -= 2\n",
        "            value = row/(10**divisor)\n",
        "            if(abs(value - estados_brasileiros[estado][0]) > 10):\n",
        "                value /= 10\n",
        "            df.loc[index, 'ocorrencia_latitude'] = value\n",
        "\n",
        "\n",
        "list = df.sort_values(by='ocorrencia_latitude')\n",
        "print(list)\n"
      ]
    },
    {
      "cell_type": "markdown",
      "metadata": {
        "id": "tPzlLjcvEgQq"
      },
      "source": [
        "Mapa com as coordenadas"
      ]
    },
    {
      "cell_type": "code",
      "execution_count": null,
      "metadata": {
        "id": "j_gfWXdkEgQq"
      },
      "outputs": [],
      "source": [
        "import folium\n",
        "\n",
        "\n",
        "# Extraindo as colunas de latitude e longitude\n",
        "latitudes = df['ocorrencia_latitude']\n",
        "longitudes = df['ocorrencia_longitude']\n",
        "\n",
        "# Criando o mapa\n",
        "mapa_mundo = folium.Map(location=[0, 0], zoom_start=2, tiles ='cartodbpositron')\n",
        "\n",
        "# Adicionando marcadores\n",
        "for lat, lon in zip(latitudes, longitudes):\n",
        "  folium.Marker([lat, lon], popup=f\"Incidente\").add_to(mapa_mundo)\n",
        "\n",
        "\n",
        "# Salvando o mapa\n",
        "#mapa_mundo.save('mapa_mundo.html')\n",
        "\n",
        "#mapa_mundo\n"
      ]
    },
    {
      "cell_type": "markdown",
      "metadata": {
        "id": "yH_Wk0RpEgQq"
      },
      "source": [
        "Criando uma nova coluna com a data e a hora formatadas"
      ]
    },
    {
      "cell_type": "code",
      "execution_count": null,
      "metadata": {
        "id": "-a3Xr22GEgQr",
        "outputId": "3ec79b20-5ce1-4b7c-fa23-3a1a5e6f6ae3",
        "colab": {
          "base_uri": "https://localhost:8080/"
        }
      },
      "outputs": [
        {
          "output_type": "stream",
          "name": "stdout",
          "text": [
            "0      2022-04-14 17:45:00\n",
            "1      2022-03-24 19:30:00\n",
            "2      2022-03-24 19:30:00\n",
            "3      2022-03-24 19:30:00\n",
            "4      2022-03-24 19:30:00\n",
            "               ...        \n",
            "7562   2013-01-05 14:30:00\n",
            "7563   2013-01-05 14:30:00\n",
            "7564   2013-01-05 14:30:00\n",
            "7565   2013-01-21 14:48:00\n",
            "7566   2013-01-21 14:48:00\n",
            "Name: ocorrencia_datahora, Length: 6889, dtype: datetime64[ns]\n"
          ]
        }
      ],
      "source": [
        "new_column = []\n",
        "for dia, hora in zip(df['ocorrencia_dia'].astype(str), df['ocorrencia_hora'].astype(str)):\n",
        "    dia = dia.split(' ')[0]\n",
        "    hora = hora.split(' ')[0]\n",
        "    new_column.append(dia + ' ' + hora)\n",
        "\n",
        "df['ocorrencia_datahora'] = pd.to_datetime(new_column)\n",
        "print(df['ocorrencia_datahora'])\n",
        "\n",
        "del df['ocorrencia_hora']\n",
        "del df['ocorrencia_dia']\n",
        "del df['divulgacao_dia_publicacao']\n",
        "del df['recomendacao_dia_assinatura']\n",
        "del df['recomendacao_dia_encaminhamento']\n",
        "del df['recomendacao_dia_feedback']\n"
      ]
    },
    {
      "cell_type": "code",
      "execution_count": null,
      "metadata": {
        "id": "IiszQrOKEgQr",
        "outputId": "29b8950c-4e77-4e02-8f1d-5d9b56f986cd",
        "colab": {
          "base_uri": "https://localhost:8080/"
        }
      },
      "outputs": [
        {
          "output_type": "stream",
          "name": "stdout",
          "text": [
            "<class 'pandas.core.series.Series'>\n",
            "Index: 6842 entries, 0 to 7566\n",
            "Series name: aeronave_ano_fabricacao\n",
            "Non-Null Count  Dtype\n",
            "--------------  -----\n",
            "6842 non-null   int64\n",
            "dtypes: int64(1)\n",
            "memory usage: 106.9 KB\n",
            "None\n",
            "0       1980\n",
            "1       1980\n",
            "2       1980\n",
            "3       1980\n",
            "4       1980\n",
            "        ... \n",
            "7562    2012\n",
            "7563    2012\n",
            "7564    2012\n",
            "7565    2008\n",
            "7566    2008\n",
            "Name: aeronave_ano_fabricacao, Length: 6842, dtype: int64\n"
          ]
        }
      ],
      "source": [
        "print(df['aeronave_ano_fabricacao'].info())\n",
        "print(df['aeronave_ano_fabricacao'])\n",
        "coluna = df['aeronave_ano_fabricacao']\n",
        "df = df.dropna(subset=['aeronave_ano_fabricacao'])\n",
        "\n",
        "#Se o valor que estiver naquela linha da coluna tiver 5 digitos, divide por 10\n",
        "\n",
        "def isCorrect(x):\n",
        "  if(x >= 10000):\n",
        "    return x//10\n",
        "\n",
        "  return x\n",
        "\n",
        "df['aeronave_ano_fabricacao'] =  coluna.apply(isCorrect)\n"
      ]
    },
    {
      "cell_type": "code",
      "source": [
        "print(df.head())\n",
        "print(df.shape)\n",
        "print(df.isnull().sum())"
      ],
      "metadata": {
        "colab": {
          "base_uri": "https://localhost:8080/"
        },
        "id": "yPBtktbTP2du",
        "outputId": "7f2966ae-8675-4b55-feaa-4358828c2d45"
      },
      "execution_count": null,
      "outputs": [
        {
          "output_type": "stream",
          "name": "stdout",
          "text": [
            "  ocorrencia_classificacao  ocorrencia_latitude  ocorrencia_longitude  \\\n",
            "0          INCIDENTE GRAVE            -9.868333            -67.898056   \n",
            "1                 ACIDENTE           -12.204167            -56.237778   \n",
            "2                 ACIDENTE           -12.204167            -56.237778   \n",
            "3                 ACIDENTE           -12.204167            -56.237778   \n",
            "4                 ACIDENTE           -12.204167            -56.237778   \n",
            "\n",
            "   ocorrencia_cidade ocorrencia_uf ocorrencia_pais ocorrencia_aerodromo  \\\n",
            "0         RIO BRANCO            AC          BRASIL                 SBRB   \n",
            "1  IPIRANGA DO NORTE            MT          BRASIL    Fora de aerodromo   \n",
            "2  IPIRANGA DO NORTE            MT          BRASIL    Fora de aerodromo   \n",
            "3  IPIRANGA DO NORTE            MT          BRASIL    Fora de aerodromo   \n",
            "4  IPIRANGA DO NORTE            MT          BRASIL    Fora de aerodromo   \n",
            "\n",
            "  investigacao_aeronave_liberada investigacao_status  \\\n",
            "0                            SIM          FINALIZADA   \n",
            "1                            SIM          FINALIZADA   \n",
            "2                            SIM          FINALIZADA   \n",
            "3                            SIM          FINALIZADA   \n",
            "4                            SIM          FINALIZADA   \n",
            "\n",
            "  divulgacao_relatorio_numero  ... aeronave_voo_destino  \\\n",
            "0          IG-047/CENIPA/2022  ...    PLÁCIDO DE CASTRO   \n",
            "1           A-038/CENIPA/2022  ...    FORA DE AERODROMO   \n",
            "2           A-038/CENIPA/2022  ...    FORA DE AERODROMO   \n",
            "3           A-038/CENIPA/2022  ...    FORA DE AERODROMO   \n",
            "4           A-038/CENIPA/2022  ...    FORA DE AERODROMO   \n",
            "\n",
            "   aeronave_fase_operacao  aeronave_tipo_operacao aeronave_nivel_dano  \\\n",
            "0       APROXIMAÇÃO FINAL              TÁXI AÉREO              NENHUM   \n",
            "1                 MANOBRA                AGRÍCOLA         SUBSTANCIAL   \n",
            "2                 MANOBRA                AGRÍCOLA         SUBSTANCIAL   \n",
            "3                 MANOBRA                AGRÍCOLA         SUBSTANCIAL   \n",
            "4                 MANOBRA                AGRÍCOLA         SUBSTANCIAL   \n",
            "\n",
            "  aeronave_fatalidades_total               fator_nome  \\\n",
            "0                          0     SUPERVISÃO GERENCIAL   \n",
            "1                          0                  ATENÇÃO   \n",
            "2                          0                  ATITUDE   \n",
            "3                          0  JULGAMENTO DE PILOTAGEM   \n",
            "4                          0                PERCEPÇÃO   \n",
            "\n",
            "              fator_aspecto   fator_condicionante         fator_area  \\\n",
            "0  DESEMPENHO DO SER HUMANO  OPERAÇÃO DA AERONAVE  FATOR OPERACIONAL   \n",
            "1       ASPECTO PSICOLÓGICO            INDIVIDUAL       FATOR HUMANO   \n",
            "2       ASPECTO PSICOLÓGICO            INDIVIDUAL       FATOR HUMANO   \n",
            "3  DESEMPENHO DO SER HUMANO  OPERAÇÃO DA AERONAVE  FATOR OPERACIONAL   \n",
            "4       ASPECTO PSICOLÓGICO            INDIVIDUAL       FATOR HUMANO   \n",
            "\n",
            "  ocorrencia_datahora  \n",
            "0 2022-04-14 17:45:00  \n",
            "1 2022-03-24 19:30:00  \n",
            "2 2022-03-24 19:30:00  \n",
            "3 2022-03-24 19:30:00  \n",
            "4 2022-03-24 19:30:00  \n",
            "\n",
            "[5 rows x 48 columns]\n",
            "(6842, 48)\n",
            "ocorrencia_classificacao              0\n",
            "ocorrencia_latitude                   0\n",
            "ocorrencia_longitude                  0\n",
            "ocorrencia_cidade                     0\n",
            "ocorrencia_uf                         0\n",
            "ocorrencia_pais                       0\n",
            "ocorrencia_aerodromo                  0\n",
            "investigacao_aeronave_liberada     1546\n",
            "investigacao_status                   0\n",
            "divulgacao_relatorio_numero          10\n",
            "divulgacao_relatorio_publicado        0\n",
            "total_recomendacoes                   0\n",
            "total_aeronaves_envolvidas            0\n",
            "ocorrencia_saida_pista                0\n",
            "ocorrencia_tipo                       4\n",
            "ocorrencia_tipo_categoria             4\n",
            "taxonomia_tipo_icao                   4\n",
            "recomendacao_numero                   0\n",
            "recomendacao_conteudo                 0\n",
            "recomendacao_status                 106\n",
            "recomendacao_destinatario_sigla       0\n",
            "recomendacao_destinatario             0\n",
            "aeronave_matricula                    0\n",
            "aeronave_tipo_veiculo                24\n",
            "aeronave_fabricante                  77\n",
            "aeronave_modelo                      57\n",
            "aeronave_tipo_icao                   73\n",
            "aeronave_motor_tipo                  74\n",
            "aeronave_motor_quantidade             3\n",
            "aeronave_pmd                          0\n",
            "aeronave_pmd_categoria                0\n",
            "aeronave_assentos                     3\n",
            "aeronave_ano_fabricacao               0\n",
            "aeronave_pais_fabricante              0\n",
            "aeronave_pais_registro                0\n",
            "aeronave_registro_categoria          24\n",
            "aeronave_registro_segmento          183\n",
            "aeronave_voo_origem                   0\n",
            "aeronave_voo_destino                  0\n",
            "aeronave_fase_operacao                0\n",
            "aeronave_tipo_operacao               76\n",
            "aeronave_nivel_dano                  12\n",
            "aeronave_fatalidades_total            0\n",
            "fator_nome                            0\n",
            "fator_aspecto                         0\n",
            "fator_condicionante                 736\n",
            "fator_area                            0\n",
            "ocorrencia_datahora                   0\n",
            "dtype: int64\n"
          ]
        }
      ]
    },
    {
      "cell_type": "markdown",
      "source": [
        "### Remover as colunas irrelevantes para a ánalise"
      ],
      "metadata": {
        "id": "f2l6Y_FdRndP"
      }
    },
    {
      "cell_type": "code",
      "source": [
        "del df['aeronave_matricula']\n",
        "del df['recomendacao_status']\n",
        "del df['recomendacao_numero']\n",
        "del df['recomendacao_conteudo']\n",
        "del df['divulgacao_relatorio_numero']\n"
      ],
      "metadata": {
        "id": "BnNY1NzfRm9O"
      },
      "execution_count": null,
      "outputs": []
    },
    {
      "cell_type": "code",
      "source": [
        "print(df.shape)\n"
      ],
      "metadata": {
        "colab": {
          "base_uri": "https://localhost:8080/"
        },
        "id": "1nfmbPKMVRyb",
        "outputId": "789fe1ec-b032-4cdf-924a-0843b8acf374"
      },
      "execution_count": null,
      "outputs": [
        {
          "output_type": "stream",
          "name": "stdout",
          "text": [
            "(6842, 43)\n"
          ]
        }
      ]
    },
    {
      "cell_type": "markdown",
      "source": [],
      "metadata": {
        "id": "ugjsvq4iK5bT"
      }
    }
  ],
  "metadata": {
    "kernelspec": {
      "display_name": "Python 3",
      "language": "python",
      "name": "python3"
    },
    "language_info": {
      "codemirror_mode": {
        "name": "ipython",
        "version": 3
      },
      "file_extension": ".py",
      "mimetype": "text/x-python",
      "name": "python",
      "nbconvert_exporter": "python",
      "pygments_lexer": "ipython3",
      "version": "3.11.9"
    },
    "colab": {
      "provenance": [],
      "include_colab_link": true
    }
  },
  "nbformat": 4,
  "nbformat_minor": 0
}