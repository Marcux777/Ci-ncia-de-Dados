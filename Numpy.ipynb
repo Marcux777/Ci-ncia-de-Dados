{
  "cells": [
    {
      "cell_type": "markdown",
      "metadata": {
        "id": "view-in-github",
        "colab_type": "text"
      },
      "source": [
        "<a href=\"https://colab.research.google.com/github/Marcux777/Ci-ncia-de-Dados/blob/main/Numpy.ipynb\" target=\"_parent\"><img src=\"https://colab.research.google.com/assets/colab-badge.svg\" alt=\"Open In Colab\"/></a>"
      ]
    },
    {
      "cell_type": "markdown",
      "source": [
        "## NumPy\n",
        "\n",
        "O NumPy, abreviação de **Numerical Python**, é uma biblioteca fundamental para a ciência de dados em Python. Ela oferece um array multidimensional de alto desempenho e ferramentas abrangentes para manipular e analisar dados numéricos com eficiência.\n",
        "\n",
        "Para entendermos melhor o papel crucial do NumPy na ciência de dados, vamos explorar suas principais funcionalidades e como elas se aplicam a tarefas comuns de análise de dados:\n",
        "\n",
        "**1. Criação e Manipulação de Arrays:**\n",
        "\n",
        "* **Arrays NumPy:** A estrutura de dados central do NumPy é o array, que armazena elementos do mesmo tipo em uma estrutura multidimensional. Arrays NumPy são homogêneos, ou seja, todos os elementos possuem o mesmo tipo de dados (int, float, bool, etc.), o que os torna muito mais eficientes para cálculos do que listas em Python puro.\n",
        "* **Criação de Arrays:** O NumPy oferece diversas funções para criar arrays, como `np.array()`, `np.zeros()`, `np.ones()`, `np.full()`, entre outras. Cada função permite especificar o tipo de dados, as dimensões e os valores iniciais do array.\n",
        "\n",
        "Exemplos:"
      ],
      "metadata": {
        "id": "Gi_M8ExcteBb"
      }
    },
    {
      "cell_type": "code",
      "source": [
        "import numpy as np"
      ],
      "metadata": {
        "id": "sSG4OeGPuQqv"
      },
      "execution_count": 2,
      "outputs": []
    },
    {
      "cell_type": "code",
      "source": [
        "# Criando um array de 10 zeros de tipo float\n",
        "array_zeros = np.zeros(10, dtype=float)\n",
        "print(array_zeros)\n",
        "\n",
        "# Criando um array de 5 ones de tipo inteiro\n",
        "array_ones = np.ones(5, dtype=int)\n",
        "print('\\n\\n',array_ones)\n",
        "\n",
        "# Criando um array 3x3 preenchido com o valor 7\n",
        "array_full = np.full((3, 3), 7)\n",
        "print('\\n\\n',array_full)"
      ],
      "outputs": [
        {
          "output_type": "stream",
          "name": "stdout",
          "text": [
            "[0. 0. 0. 0. 0. 0. 0. 0. 0. 0.]\n",
            "\n",
            "\n",
            " [1 1 1 1 1]\n",
            "\n",
            "\n",
            " [[7 7 7]\n",
            " [7 7 7]\n",
            " [7 7 7]]\n"
          ]
        }
      ],
      "execution_count": 6,
      "metadata": {
        "id": "wTSKzObIteBj",
        "colab": {
          "base_uri": "https://localhost:8080/"
        },
        "outputId": "d9be3029-f7fc-47ae-9d83-b5d41a5ecb4d"
      }
    },
    {
      "cell_type": "markdown",
      "source": [
        "**2. Indexação e Fatiamento:**\n",
        "\n",
        "* **Acesso a Elementos Específicos:** O NumPy fornece mecanismos eficientes para acessar elementos individuais ou subconjuntos de um array usando índices e fatiamento.\n",
        "* **Indexação:** Os índices entre colchetes `[]` permitem selecionar elementos específicos de um array, especificando suas posições nas dimensões.\n",
        "* **Fatiamento:** O fatiamento com colchetes `[]` e dois pontos `:` permite selecionar subconjuntos de um array, definindo um intervalo de índices para cada dimensão.\n",
        "\n",
        "Exemplos:"
      ],
      "metadata": {
        "id": "2GQ_ol8kteBp"
      }
    },
    {
      "cell_type": "code",
      "source": [
        "# Acessando o quinto elemento do array\n",
        "array_numeros = np.array([1, 2, 3, 4, 5])\n",
        "quinto_elemento = array_numeros[4]  # Resultado: 5\n",
        "print(quinto_elemento)\n",
        "\n",
        "# Selecionando os elementos da segunda à quarta linha\n",
        "matriz = np.array([[1, 2, 3], [4, 5, 6], [7, 8, 9]])\n",
        "linhas_2_a_4 = matriz[1:4, :]  # Resultado: [[4 5 6], [7 8 9]]\n",
        "print(\"\\n\\n\", linhas_2_a_4)\n",
        "\n",
        "# Selecionando a segunda coluna de todas as linhas\n",
        "coluna_2 = matriz[:, 1]  # Resultado: [2 5 8]\n",
        "print(\"\\n\\n\", coluna_2)"
      ],
      "outputs": [
        {
          "output_type": "stream",
          "name": "stdout",
          "text": [
            "5\n",
            "\n",
            "\n",
            " [[4 5 6]\n",
            " [7 8 9]]\n",
            "\n",
            "\n",
            " [2 5 8]\n"
          ]
        }
      ],
      "execution_count": 7,
      "metadata": {
        "colab": {
          "base_uri": "https://localhost:8080/"
        },
        "id": "p6bsTsAMteBq",
        "outputId": "1c3bab3d-e93d-4762-8859-151ae361a31a"
      }
    },
    {
      "cell_type": "markdown",
      "source": [
        "**3. Operações Matemáticas e Estatísticas:**\n",
        "\n",
        "* **Operações Vetorizadas:** O NumPy permite realizar operações matemáticas e estatísticas em arrays inteiros, sem a necessidade de loops lentos. As operações são aplicadas elemento a elemento em todo o array.\n",
        "* **Funções Matemáticas:** O NumPy oferece uma ampla gama de funções matemáticas embutidas, como `np.sin()`, `np.cos()`, `np.exp()`, `np.log()`, `np.sqrt()`, entre muitas outras.\n",
        "* **Funções Estatísticas:** O NumPy também fornece funções estatísticas para calcular medidas como média, mediana, desvio padrão, variância, quartis, etc.\n",
        "\n",
        "Exemplos:"
      ],
      "metadata": {
        "id": "tS35Q4rKteBr"
      }
    },
    {
      "cell_type": "code",
      "source": [
        "# Calculando o seno de todos os elementos do array\n",
        "angulos = np.array([30, 60, 90])\n",
        "radians = np.radians(angulos)\n",
        "senos = np.sin(radians)\n",
        "print(senos)\n",
        "\n",
        "    # Calculando a média dos elementos do array\n",
        "numeros = np.array([10, 20, 30, 40, 50])\n",
        "media = np.mean(numeros)  # Resultado: 30.0\n",
        "print(\"\\n\\n\",media)\n",
        "\n",
        "    # Calculando a variância dos elementos do array\n",
        "variancia = np.var(numeros)  # Resultado: 200.0\n",
        "print(\"\\n\\n\", variancia)"
      ],
      "outputs": [
        {
          "output_type": "stream",
          "name": "stdout",
          "text": [
            "[0.5       0.8660254 1.       ]\n",
            "\n",
            "\n",
            " 30.0\n",
            "\n",
            "\n",
            " 200.0\n"
          ]
        }
      ],
      "execution_count": 8,
      "metadata": {
        "colab": {
          "base_uri": "https://localhost:8080/"
        },
        "id": "usmf3eCxteBr",
        "outputId": "847d667b-10fb-4d42-d76c-55ecd60b0bd3"
      }
    },
    {
      "cell_type": "markdown",
      "source": [],
      "metadata": {
        "id": "F1yO_crNz1tN"
      }
    },
    {
      "cell_type": "markdown",
      "source": [
        "**4. Transformações de Arrays:**\n",
        "\n",
        "* **Reorganização de Arrays:** O NumPy oferece diversas funções para reorganizar e modificar a estrutura de arrays.\n",
        "* **Mudança de Forma:** A função `np.reshape()` permite alterar a forma de um array sem modificar seus dados.\n",
        "* **Transposição:** A função `np.transpose()` troca as linhas e colunas de um array.\n",
        "* **Agrupamento e Ordenação:** Funções como `np.sort()`, `np.argsort()`, `np.unique()`, e `np.count_elements()` permitem agrupar, ordenar e contar elementos em arrays.\n",
        "\n",
        "Exemplos:"
      ],
      "metadata": {
        "id": "f7uXg6GQzwgu"
      }
    },
    {
      "cell_type": "code",
      "source": [
        "# Alterando a forma de um array para (2, 3)\n",
        "array_original = np.array([1, 2, 3, 4, 5, 6])\n",
        "array_remodelado = np.reshape(array_original, (2, 3))  # Resultado: [[1 2 3], [4 5 6]]\n",
        "print(array_remodelado)\n",
        "\n",
        "    # Transpondo um array\n",
        "matriz = np.array([[1, 2, 3], [4, 5, 6], [7, 8, 9]])\n",
        "matriz_transposta = np.transpose(matriz)  # Resultado: [[1 4 7], [2 5 8], [3 6 9]]\n",
        "print('\\n\\n',matriz_transposta,'\\n\\n')\n",
        "\n",
        "    # Ordenando um array e obtendo os índices de ordenação\n",
        "numeros_desordenados = np.array([5, 2, 4, 1, 3])\n",
        "numeros_ordenados, indices_ordenacao = np.sort(numeros_desordenados), np.argsort(numeros_desordenados)\n",
        "print(numeros_ordenados)\n",
        "print(indices_ordenacao)\n",
        "    # Resultado: numeros_ordenados = [1 2 3 4 5], indices_ordenacao = [3 1 2 0 4]"
      ],
      "outputs": [
        {
          "output_type": "stream",
          "name": "stdout",
          "text": [
            "[[1 2 3]\n",
            " [4 5 6]]\n",
            "\n",
            "\n",
            " [[1 4 7]\n",
            " [2 5 8]\n",
            " [3 6 9]] \n",
            "\n",
            "\n",
            "[1 2 3 4 5]\n",
            "[3 1 4 2 0]\n"
          ]
        }
      ],
      "execution_count": 12,
      "metadata": {
        "id": "vcf3g67_zwgx",
        "colab": {
          "base_uri": "https://localhost:8080/"
        },
        "outputId": "a5c2da48-e2b3-4c87-d1eb-373d8036f0f5"
      }
    },
    {
      "cell_type": "markdown",
      "source": [
        "**5. Operações com Outros Objetos Python:**\n",
        "\n",
        "* **Integração com Python Puro:** O NumPy se integra perfeitamente com o Python puro, permitindo que você utilize arrays NumPy em conjunto com outras estruturas de dados e funções do Python.\n",
        "* **Conversão de Tipos:** Funções como `np.asarray()`, `np.frompyfunc()`, e `np.vectorize()` permitem converter objetos Python em arrays NumPy e vice-versa.\n",
        "* **Operações com Pandas:** O NumPy é a base para a biblioteca Pandas, popular para análise de dados em Python. Arrays NumPy podem ser facilmente convertidos em DataFrames Pandas para análises mais complexas.\n",
        "\n",
        "Exemplos:"
      ],
      "metadata": {
        "id": "_ev2Kwxgzwgz"
      }
    },
    {
      "cell_type": "code",
      "source": [
        "# Convertendo uma lista em um array NumPy\n",
        "lista_numeros = [10, 20, 30]\n",
        "array_numeros = np.asarray(lista_numeros)  # Resultado: array([10, 20, 30])\n",
        "\n",
        "    # Criando uma função Python que eleva ao quadrado e aplicando-a em um array NumPy\n",
        "def elevar_ao_quadrado(x):\n",
        "    return x ** 2\n",
        "\n",
        "numeros_quadrados = np.vectorize(elevar_ao_quadrado)(array_numeros)  # Resultado: array([100 400 900])\n",
        "print(numeros_quadrados)"
      ],
      "outputs": [
        {
          "output_type": "stream",
          "name": "stdout",
          "text": [
            "[100 400 900]\n"
          ]
        }
      ],
      "execution_count": 13,
      "metadata": {
        "id": "UHRl30vbzwg0",
        "colab": {
          "base_uri": "https://localhost:8080/"
        },
        "outputId": "db1ef3e9-358c-42f9-9519-50abf39955e0"
      }
    },
    {
      "cell_type": "markdown",
      "source": [
        "**6. Otimização de Desempenho:**\n",
        "\n",
        "* **Cálculos Vetorizados Eficientes:** O NumPy utiliza técnicas de computação vetorial otimizadas para realizar cálculos em arrays de forma muito mais rápida do que loops em Python puro.\n",
        "* **Suporte a Multiprocessamento:** O NumPy oferece suporte para multiprocessamento, permitindo distribuir cálculos em vários núcleos do processador para acelerar ainda mais as análises.\n",
        "* **Bibliotecas Externas:** Bibliotecas como Cython e Numba podem ser usadas para compilar código NumPy em C ou Python otimizado, obtendo ganhos de desempenho ainda maiores.\n",
        "\n",
        "Exemplos:"
      ],
      "metadata": {
        "id": "VlROCGMTzwg0"
      }
    },
    {
      "cell_type": "code",
      "source": [
        "# Calculando a soma de um array de 1 milhão de elementos usando um loop Python puro\n",
        "import time\n",
        "\n",
        "tempo_inicio = time.time()\n",
        "soma_loop = 0\n",
        "for numero in range(1000000):\n",
        "    soma_loop += numero\n",
        "\n",
        "tempo_final = time.time()\n",
        "print(f\"Tempo de loop: {tempo_final - tempo_inicio}\")\n"
      ],
      "outputs": [
        {
          "output_type": "stream",
          "name": "stdout",
          "text": [
            "Tempo de loop: 0.1387636661529541\n"
          ]
        }
      ],
      "execution_count": null,
      "metadata": {
        "id": "WPJ1xwuYzwg1",
        "colab": {
          "base_uri": "https://localhost:8080/"
        },
        "outputId": "908d65ca-d324-44a6-ae32-9e3118e320f5"
      }
    },
    {
      "cell_type": "code",
      "source": [
        "# Calculando a soma do mesmo array usando o NumPy\n",
        "tempo_inicio = time.time()\n",
        "soma_numpy = np.sum(np.arange(1000000))\n",
        "tempo_final = time.time()\n",
        "print(f\"Tempo NumPy: {tempo_final - tempo_inicio}\")"
      ],
      "outputs": [
        {
          "output_type": "stream",
          "name": "stdout",
          "text": [
            "Tempo NumPy: 0.007683753967285156\n"
          ]
        }
      ],
      "execution_count": null,
      "metadata": {
        "id": "DVKl9j-n0iHZ",
        "colab": {
          "base_uri": "https://localhost:8080/"
        },
        "outputId": "718479b1-58d9-4727-828c-4f2a5a7050a5"
      }
    },
    {
      "cell_type": "markdown",
      "source": [
        "Tipicamente, a versão NumPy será significativamente mais rápida devido à maneira otimizada como processa os elementos do array.\n",
        "\n",
        "**7. Manipulação de Arquivos de Dados:**\n",
        "\n",
        "* **Leitura e Escrita de Arquivos:** NumPy possui funções para ler e salvar dados de arquivos em diversos formatos.\n",
        "* **Arquivos .txt ou .csv:** Funções como `np.loadtxt()` e `np.savetxt()` para ler ou salvar arrays como arquivos de texto.\n",
        "* **Formatos Binários:** Funções como `np.save()` e `np.load()` para gravar e carregar arrays em formatos binários que costumam ser mais compactos e eficientes para grandes conjuntos de dados.\n",
        "\n",
        "Exemplos:"
      ],
      "metadata": {
        "id": "YW70Acsr0iHa"
      }
    },
    {
      "cell_type": "code",
      "source": [
        "# Saving an array to a text file .csv\n",
        "from numpy import savetxt\n",
        "dados = np.array([[1, 2, 3], [4, 5, 6]])\n",
        "savetxt('meus_dados.csv', dados, delimiter=',')\n",
        "\n",
        "# Loading data from a text file .txt\n",
        "from numpy import loadtxt\n",
        "dados_carregados = loadtxt('meus_dados.csv', delimiter=',')\n",
        "print(dados_carregados)"
      ],
      "outputs": [
        {
          "output_type": "stream",
          "name": "stdout",
          "text": [
            "[[1. 2. 3.]\n",
            " [4. 5. 6.]]\n"
          ]
        }
      ],
      "execution_count": 14,
      "metadata": {
        "id": "nzm_Hd1y0iHc",
        "colab": {
          "base_uri": "https://localhost:8080/"
        },
        "outputId": "bc91daa5-68df-431a-f0a1-3d97c10d7fff"
      }
    },
    {
      "cell_type": "markdown",
      "source": [
        "**Aplicações Comuns do NumPy na Ciência de Dados**\n",
        "\n",
        "* **Pré-processamento de dados:** Utilizar arrays NumPy para limpeza de dados, normalização e padronização antes de treinar modelos.\n",
        "* **Engenharia de Recursos:** Transformar e manipular dados numéricos, extrair recursos ou construir representações para modelos de Machine Learning.\n",
        "* **Álgebra Linear:** Implementar operações fundamentais de álgebra linear, essenciais para muitos algoritmos estatísticos e de aprendizado de máquina.\n",
        "* **Implementação de Algoritmos de ML:** Utilizar as poderosas operações NumPy para construir algoritmos de aprendizado de máquina, como regressão linear e redes neurais.\n",
        "* **Visualização de Dados:** Combinar NumPy com bibliotecas de visualização como Matplotlib e Seaborn para criar gráficos e diagramas informativos.\n"
      ],
      "metadata": {
        "id": "VejbENPa0iHd"
      }
    }
  ],
  "metadata": {
    "colab": {
      "provenance": [],
      "include_colab_link": true
    },
    "kernelspec": {
      "display_name": "Python 3",
      "name": "python3"
    }
  },
  "nbformat": 4,
  "nbformat_minor": 0
}